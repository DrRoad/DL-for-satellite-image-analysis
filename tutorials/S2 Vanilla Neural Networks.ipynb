{
 "cells": [
  {
   "cell_type": "markdown",
   "metadata": {},
   "source": [
    "# Section 2: Vanilla Neural Networks\n",
    "\n",
    "From this point onward, we will only deal with Neural Networks. In this section, let's try to develop simple neural networks (vanilla neural networks). Basically neural networks can be considered as universal function approximators. So, in this section, we will develop arbitrarily complicated functions going beyond simple linear and logistic functions, which we have done in the last section.\n",
    "\n",
    "Following examples are covered during this section\n",
    "\n",
    "    1) Regression with Neural Networks\n",
    "\n",
    "    2) Classification (2 Classes) with Neural Networks\n",
    "\n",
    "    3) Classification (Multi Classes) with Neural Networks"
   ]
  },
  {
   "cell_type": "markdown",
   "metadata": {},
   "source": [
    "<hr>\n",
    "<hr>\n",
    "<hr>"
   ]
  },
  {
   "cell_type": "code",
   "execution_count": 2,
   "metadata": {
    "colab": {},
    "colab_type": "code",
    "id": "959wCOJ6DPr7"
   },
   "outputs": [],
   "source": [
    "'''first, let's import libraries '''\n",
    "\n",
    "import numpy as np\n",
    "import matplotlib.pyplot as plt\n",
    "from sklearn import datasets\n",
    "\n",
    "from tensorflow.python.keras import Sequential\n",
    "from tensorflow.python.keras.layers import Dense"
   ]
  },
  {
   "cell_type": "markdown",
   "metadata": {
    "colab_type": "text",
    "id": "N-dTXUu4DYCQ"
   },
   "source": [
    "## 1) Regression with Nural Networks\n",
    "\n",
    "Again here, we will use diabetes dataset from sklearn library"
   ]
  },
  {
   "cell_type": "code",
   "execution_count": 3,
   "metadata": {
    "colab": {
     "base_uri": "https://localhost:8080/",
     "height": 588
    },
    "colab_type": "code",
    "executionInfo": {
     "elapsed": 1198,
     "status": "ok",
     "timestamp": 1586143570841,
     "user": {
      "displayName": "lakmal Lakmal",
      "photoUrl": "",
      "userId": "15890829342024976793"
     },
     "user_tz": -420
    },
    "id": "DvKdXe1EhhjU",
    "outputId": "a87ffc9e-ce96-4606-8fe7-820c4ab7e60b"
   },
   "outputs": [
    {
     "name": "stdout",
     "output_type": "stream",
     "text": [
      "(442, 10)\n",
      "(442,)\n"
     ]
    }
   ],
   "source": [
    "xx,yy = datasets.load_diabetes(return_X_y=True)\n",
    "\n",
    "print(xx.shape)\n",
    "print(yy.shape)"
   ]
  },
  {
   "cell_type": "markdown",
   "metadata": {},
   "source": [
    "So, we have data for 442 patients, 10 input variables and 1 output variable. And from now on, we will use a library call Tensorflow (Keras: high level, easy to use part of the Tensorflow library) which has lots of functions related to Neural Networks.\n",
    "\n",
    "In the previous section, we used predefined equations (linear and logistic) to model the data. In case of Neural Networks, we can model arbitrarily complicated function as we prefer, with multiple layers, with multiple neurons in each layer, so on. So theoretically neural networks can be used to approximate any function with large enough number of neurons. There is a mathematical theorem proving this, and it is known as The Universal Approximation Theorem.\n",
    "\n",
    "__Past researches show that, deeper the neural network, it works better. And this is the key idea in Deep Learning.__\n",
    "\n",
    "*This is a nice interactive tool to visualize how vanilla neural networks work and play around with different configuration: https://playground.tensorflow.org/*\n",
    "\n",
    "So let's define our first neural network. There is no any rules here. We can try with different neural network architectures to find the best neural network architecture for our task.\n",
    "\n",
    "Before that, we have to discuss little about activation functions. If we dig little deeper in to neural network architecture, each neuron can be considered as linear model. But the problem is, when we combine multiple neurons linearly, linear combinations of linear equations are also a linear function. So we are not adding any additional complexity to the model. To go around that, we are introducing activation functions (non-linearity) for each neurons. Most common and simplest activation function in known as ReLU (Rectified Linear Unit). More details about activation functions can be seen here https://en.wikipedia.org/wiki/Activation_function\n",
    "\n",
    "Examples of commonly used activation functions:\n",
    "\n",
    "<img src=\"./graphics/activation-functions.PNG\" width=\"40%\"/>\n",
    "<sub>Source of the figure: https://towardsdatascience.com/complete-guide-of-activation-functions-34076e95d044</sub>"
   ]
  },
  {
   "cell_type": "code",
   "execution_count": 4,
   "metadata": {},
   "outputs": [],
   "source": [
    "'''define neural network architecture'''\n",
    "\n",
    "model = Sequential() # initiate the model\n",
    "\n",
    "# add 4 layers. And we have to define input dimension in the first layer. That's how library is designed.\n",
    "model.add(Dense(6, input_dim=10, activation='relu')) # 6 neurons in this layer\n",
    "model.add(Dense(6, activation='relu')) # 6 neurons in this layer\n",
    "model.add(Dense(6, activation='relu')) # 6 neurons in this layer\n",
    "model.add(Dense(1, activation='relu')) # 1 neuron in this layer - corresponding to single output variable\n",
    "\n",
    "model.compile(loss='mean_squared_error', optimizer='adam') # define loss function and optimizer"
   ]
  },
  {
   "cell_type": "markdown",
   "metadata": {},
   "source": [
    "Now we know from Section 1, best model is the model that produces least error / loss. So in this case additionally to defining arbitrary network, we can define which loss function to be minimized in order to produce the best model. For now, let's select simple loss function like mean squared error. So now the goal is to find optimum parameters of the model that minimizes the loss (mean squared error). The method / strategy of finding optimum parameter is called optimizer. In this case, we have chosen optimizer call __*Adam*__ which is a commonly used optimizer in practice. There are many optimizers available in Tensorflow library (have a look Tensorflow documentation for more details).\n",
    "\n",
    "Now we have defined neural network architecture, loss function to evaluate the model, and an optimizer that adjust parameters of the model. Then, let's feed the data into neural network and find the best neural network model that fit the data.\n",
    "\n",
    "Before that, we have to do one more thing. In reality, we will not use the model on the data that we have trained the model. Most likely, we will predict on new data sets which model has never seen during the training process. So, it's better to train the model with one part of the dataset (typically 66%) and evaluate the model on another part of the dataset (typically 33%). These 2 parts of the whole dataset are called as Training and Test (or Validation) dataset. So let's do training and test splitting first and feed these data in to the model for fitting."
   ]
  },
  {
   "cell_type": "code",
   "execution_count": 5,
   "metadata": {
    "colab": {},
    "colab_type": "code",
    "id": "Detl1ZloDps_"
   },
   "outputs": [],
   "source": [
    "'''splitting training and test set'''\n",
    "\n",
    "split_pnt = int(442 * 0.66) # consider 2/3 as the split point. 66.66 % for training set, and 0.33 % for test set.\n",
    "\n",
    "xx_train = xx[:split_pnt,:]\n",
    "yy_train = yy[:split_pnt]\n",
    "\n",
    "xx_test = xx[split_pnt:,:]\n",
    "yy_test = yy[split_pnt:]"
   ]
  },
  {
   "cell_type": "markdown",
   "metadata": {},
   "source": [
    "Next, let's find best model that fits data well. We can use __*fit*__ function here and definitions of input parameters are as follows,\n",
    "\n",
    "- first 2 parameters - training __*xx*__ data __*yy*__ data\n",
    "- validation_data - test __*xx*__ and __*yy*__ data as a tuple\n",
    "- epochs - number of times model will go through entire dataset minimizing loss\n",
    "- batch_size - while model going through whole dataset to adjust weights that minimize the loss. Model will consider only this amount of data at a time to adjust model parameters. If this value is too large and memory is limited, there will be some errors related to memory. In such cases, better to select smaller batch size.\n",
    "\n",
    "There are more option available with the __*fit*__ function. For more information, please check Tensorflow (Keras) documentation."
   ]
  },
  {
   "cell_type": "code",
   "execution_count": 6,
   "metadata": {
    "colab": {},
    "colab_type": "code",
    "id": "f2cUMo3ghAaJ",
    "scrolled": true
   },
   "outputs": [
    {
     "name": "stdout",
     "output_type": "stream",
     "text": [
      "Train on 291 samples, validate on 151 samples\n",
      "Epoch 1/100\n",
      "291/291 [==============================] - 6s 20ms/step - loss: 28591.1353 - val_loss: 29967.2212\n",
      "Epoch 2/100\n",
      "291/291 [==============================] - 0s 398us/step - loss: 28558.8167 - val_loss: 29923.9343\n",
      "Epoch 3/100\n",
      "291/291 [==============================] - 0s 341us/step - loss: 28509.6015 - val_loss: 29861.5132\n",
      "Epoch 4/100\n",
      "291/291 [==============================] - 0s 356us/step - loss: 28438.0241 - val_loss: 29770.5795\n",
      "Epoch 5/100\n",
      "291/291 [==============================] - 0s 354us/step - loss: 28330.6235 - val_loss: 29633.3791\n",
      "Epoch 6/100\n",
      "291/291 [==============================] - 0s 348us/step - loss: 28171.6211 - val_loss: 29432.0156\n",
      "Epoch 7/100\n",
      "291/291 [==============================] - 0s 365us/step - loss: 27949.4786 - val_loss: 29157.1276\n",
      "Epoch 8/100\n",
      "291/291 [==============================] - 0s 364us/step - loss: 27631.3808 - val_loss: 28751.0756\n",
      "Epoch 9/100\n",
      "291/291 [==============================] - 0s 360us/step - loss: 27173.8605 - val_loss: 28176.2718\n",
      "Epoch 10/100\n",
      "291/291 [==============================] - 0s 358us/step - loss: 26535.1474 - val_loss: 27389.7678\n",
      "Epoch 11/100\n",
      "291/291 [==============================] - 0s 358us/step - loss: 25690.6759 - val_loss: 26351.1668\n",
      "Epoch 12/100\n",
      "291/291 [==============================] - 0s 350us/step - loss: 24578.1910 - val_loss: 25029.5316\n",
      "Epoch 13/100\n",
      "291/291 [==============================] - 0s 350us/step - loss: 23181.6529 - val_loss: 23399.7481\n",
      "Epoch 14/100\n",
      "291/291 [==============================] - 0s 349us/step - loss: 21532.6577 - val_loss: 21517.1433\n",
      "Epoch 15/100\n",
      "291/291 [==============================] - 0s 347us/step - loss: 19681.2592 - val_loss: 19489.2099\n",
      "Epoch 16/100\n",
      "291/291 [==============================] - 0s 360us/step - loss: 17715.4250 - val_loss: 17336.3887\n",
      "Epoch 17/100\n",
      "291/291 [==============================] - 0s 370us/step - loss: 15641.2635 - val_loss: 15040.9881\n",
      "Epoch 18/100\n",
      "291/291 [==============================] - 0s 367us/step - loss: 13419.7963 - val_loss: 12778.9229\n",
      "Epoch 19/100\n",
      "291/291 [==============================] - 0s 353us/step - loss: 11349.6107 - val_loss: 10563.3021\n",
      "Epoch 20/100\n",
      "291/291 [==============================] - 0s 363us/step - loss: 9459.2618 - val_loss: 8731.9038\n",
      "Epoch 21/100\n",
      "291/291 [==============================] - 0s 343us/step - loss: 7943.7275 - val_loss: 7268.9732\n",
      "Epoch 22/100\n",
      "291/291 [==============================] - 0s 360us/step - loss: 6762.8067 - val_loss: 6103.5030\n",
      "Epoch 23/100\n",
      "291/291 [==============================] - 0s 350us/step - loss: 5806.1160 - val_loss: 5250.2698\n",
      "Epoch 24/100\n",
      "291/291 [==============================] - 0s 346us/step - loss: 5209.7204 - val_loss: 4739.3199\n",
      "Epoch 25/100\n",
      "291/291 [==============================] - 0s 350us/step - loss: 4836.2374 - val_loss: 4375.1834\n",
      "Epoch 26/100\n",
      "291/291 [==============================] - 0s 353us/step - loss: 4609.4320 - val_loss: 4186.6065\n",
      "Epoch 27/100\n",
      "291/291 [==============================] - 0s 361us/step - loss: 4466.9223 - val_loss: 4047.0781\n",
      "Epoch 28/100\n",
      "291/291 [==============================] - 0s 350us/step - loss: 4377.0899 - val_loss: 3954.8206\n",
      "Epoch 29/100\n",
      "291/291 [==============================] - 0s 350us/step - loss: 4320.8515 - val_loss: 3904.3681\n",
      "Epoch 30/100\n",
      "291/291 [==============================] - 0s 360us/step - loss: 4283.3625 - val_loss: 3858.6096\n",
      "Epoch 31/100\n",
      "291/291 [==============================] - 0s 356us/step - loss: 4250.6909 - val_loss: 3821.7222\n",
      "Epoch 32/100\n",
      "291/291 [==============================] - 0s 360us/step - loss: 4216.4710 - val_loss: 3791.6792\n",
      "Epoch 33/100\n",
      "291/291 [==============================] - 0s 350us/step - loss: 4184.8942 - val_loss: 3759.1777\n",
      "Epoch 34/100\n",
      "291/291 [==============================] - 0s 346us/step - loss: 4154.9463 - val_loss: 3725.5848\n",
      "Epoch 35/100\n",
      "291/291 [==============================] - 0s 349us/step - loss: 4130.4091 - val_loss: 3695.8172\n",
      "Epoch 36/100\n",
      "291/291 [==============================] - 0s 362us/step - loss: 4097.9247 - val_loss: 3664.0999\n",
      "Epoch 37/100\n",
      "291/291 [==============================] - 0s 361us/step - loss: 4071.3952 - val_loss: 3635.1647\n",
      "Epoch 38/100\n",
      "291/291 [==============================] - 0s 348us/step - loss: 4050.9596 - val_loss: 3600.2573\n",
      "Epoch 39/100\n",
      "291/291 [==============================] - 0s 359us/step - loss: 4018.5688 - val_loss: 3580.1028\n",
      "Epoch 40/100\n",
      "291/291 [==============================] - 0s 353us/step - loss: 3994.0628 - val_loss: 3556.4650\n",
      "Epoch 41/100\n",
      "291/291 [==============================] - 0s 359us/step - loss: 3968.9663 - val_loss: 3531.5331\n",
      "Epoch 42/100\n",
      "291/291 [==============================] - 0s 361us/step - loss: 3947.9124 - val_loss: 3508.1417\n",
      "Epoch 43/100\n",
      "291/291 [==============================] - 0s 362us/step - loss: 3927.1842 - val_loss: 3483.6914\n",
      "Epoch 44/100\n",
      "291/291 [==============================] - 0s 356us/step - loss: 3915.7310 - val_loss: 3463.4042\n",
      "Epoch 45/100\n",
      "291/291 [==============================] - 0s 370us/step - loss: 3890.0945 - val_loss: 3446.1060\n",
      "Epoch 46/100\n",
      "291/291 [==============================] - 0s 363us/step - loss: 3865.2286 - val_loss: 3422.3575\n",
      "Epoch 47/100\n",
      "291/291 [==============================] - 0s 356us/step - loss: 3851.9467 - val_loss: 3406.0137\n",
      "Epoch 48/100\n",
      "291/291 [==============================] - 0s 363us/step - loss: 3824.3215 - val_loss: 3375.6218\n",
      "Epoch 49/100\n",
      "291/291 [==============================] - 0s 353us/step - loss: 3800.0195 - val_loss: 3357.5865\n",
      "Epoch 50/100\n",
      "291/291 [==============================] - 0s 354us/step - loss: 3780.5856 - val_loss: 3339.5917\n",
      "Epoch 51/100\n",
      "291/291 [==============================] - 0s 349us/step - loss: 3767.6828 - val_loss: 3319.7635\n",
      "Epoch 52/100\n",
      "291/291 [==============================] - 0s 363us/step - loss: 3749.7802 - val_loss: 3301.5678\n",
      "Epoch 53/100\n",
      "291/291 [==============================] - 0s 359us/step - loss: 3741.2726 - val_loss: 3284.9425\n",
      "Epoch 54/100\n",
      "291/291 [==============================] - 0s 370us/step - loss: 3712.1493 - val_loss: 3270.7137\n",
      "Epoch 55/100\n",
      "291/291 [==============================] - 0s 371us/step - loss: 3693.2338 - val_loss: 3252.4683\n",
      "Epoch 56/100\n",
      "291/291 [==============================] - 0s 359us/step - loss: 3682.3184 - val_loss: 3237.5009\n",
      "Epoch 57/100\n",
      "291/291 [==============================] - 0s 376us/step - loss: 3662.6791 - val_loss: 3221.6656\n",
      "Epoch 58/100\n",
      "291/291 [==============================] - 0s 365us/step - loss: 3647.9505 - val_loss: 3207.4422\n",
      "Epoch 59/100\n",
      "291/291 [==============================] - 0s 363us/step - loss: 3638.4567 - val_loss: 3195.2342\n",
      "Epoch 60/100\n",
      "291/291 [==============================] - 0s 353us/step - loss: 3625.6371 - val_loss: 3181.1582\n",
      "Epoch 61/100\n",
      "291/291 [==============================] - 0s 355us/step - loss: 3610.5248 - val_loss: 3170.4880\n",
      "Epoch 62/100\n",
      "291/291 [==============================] - 0s 366us/step - loss: 3597.3987 - val_loss: 3151.3876\n",
      "Epoch 63/100\n",
      "291/291 [==============================] - 0s 349us/step - loss: 3578.6026 - val_loss: 3136.0995\n",
      "Epoch 64/100\n",
      "291/291 [==============================] - 0s 349us/step - loss: 3568.5646 - val_loss: 3124.3917\n",
      "Epoch 65/100\n",
      "291/291 [==============================] - 0s 346us/step - loss: 3554.9909 - val_loss: 3113.6665\n",
      "Epoch 66/100\n",
      "291/291 [==============================] - 0s 343us/step - loss: 3541.3432 - val_loss: 3102.2487\n",
      "Epoch 67/100\n",
      "291/291 [==============================] - 0s 358us/step - loss: 3536.7112 - val_loss: 3093.6008\n",
      "Epoch 68/100\n",
      "291/291 [==============================] - 0s 356us/step - loss: 3522.7790 - val_loss: 3083.0086\n",
      "Epoch 69/100\n",
      "291/291 [==============================] - 0s 357us/step - loss: 3519.3588 - val_loss: 3074.3346\n",
      "Epoch 70/100\n",
      "291/291 [==============================] - 0s 360us/step - loss: 3509.3703 - val_loss: 3061.1596\n",
      "Epoch 71/100\n",
      "291/291 [==============================] - 0s 356us/step - loss: 3492.0785 - val_loss: 3052.1915\n",
      "Epoch 72/100\n",
      "291/291 [==============================] - 0s 353us/step - loss: 3482.0064 - val_loss: 3046.1541\n",
      "Epoch 73/100\n",
      "291/291 [==============================] - 0s 363us/step - loss: 3467.5194 - val_loss: 3032.9661\n",
      "Epoch 74/100\n",
      "291/291 [==============================] - 0s 367us/step - loss: 3456.7267 - val_loss: 3022.9649\n"
     ]
    },
    {
     "name": "stdout",
     "output_type": "stream",
     "text": [
      "Epoch 75/100\n",
      "291/291 [==============================] - 0s 346us/step - loss: 3449.2344 - val_loss: 3013.8851\n",
      "Epoch 76/100\n",
      "291/291 [==============================] - 0s 353us/step - loss: 3434.6463 - val_loss: 3004.7288\n",
      "Epoch 77/100\n",
      "291/291 [==============================] - 0s 356us/step - loss: 3427.2977 - val_loss: 2995.3936\n",
      "Epoch 78/100\n",
      "291/291 [==============================] - 0s 355us/step - loss: 3420.6071 - val_loss: 2985.2802\n",
      "Epoch 79/100\n",
      "291/291 [==============================] - 0s 343us/step - loss: 3402.3273 - val_loss: 2981.4637\n",
      "Epoch 80/100\n",
      "291/291 [==============================] - 0s 349us/step - loss: 3404.4473 - val_loss: 2976.8409\n",
      "Epoch 81/100\n",
      "291/291 [==============================] - 0s 339us/step - loss: 3392.6393 - val_loss: 2964.5227\n",
      "Epoch 82/100\n",
      "291/291 [==============================] - 0s 354us/step - loss: 3387.5112 - val_loss: 2953.3245\n",
      "Epoch 83/100\n",
      "291/291 [==============================] - 0s 337us/step - loss: 3371.8431 - val_loss: 2946.0892\n",
      "Epoch 84/100\n",
      "291/291 [==============================] - 0s 351us/step - loss: 3370.9599 - val_loss: 2941.2815\n",
      "Epoch 85/100\n",
      "291/291 [==============================] - 0s 343us/step - loss: 3354.8326 - val_loss: 2936.0897\n",
      "Epoch 86/100\n",
      "291/291 [==============================] - 0s 357us/step - loss: 3354.2892 - val_loss: 2930.9113\n",
      "Epoch 87/100\n",
      "291/291 [==============================] - 0s 370us/step - loss: 3334.1749 - val_loss: 2917.0639\n",
      "Epoch 88/100\n",
      "291/291 [==============================] - 0s 360us/step - loss: 3333.0622 - val_loss: 2912.4774\n",
      "Epoch 89/100\n",
      "291/291 [==============================] - 0s 401us/step - loss: 3325.6279 - val_loss: 2906.6402\n",
      "Epoch 90/100\n",
      "291/291 [==============================] - 0s 394us/step - loss: 3317.6036 - val_loss: 2903.7741\n",
      "Epoch 91/100\n",
      "291/291 [==============================] - 0s 367us/step - loss: 3316.6338 - val_loss: 2902.2637\n",
      "Epoch 92/100\n",
      "291/291 [==============================] - 0s 339us/step - loss: 3304.9883 - val_loss: 2893.3649\n",
      "Epoch 93/100\n",
      "291/291 [==============================] - 0s 346us/step - loss: 3296.1586 - val_loss: 2883.5135\n",
      "Epoch 94/100\n",
      "291/291 [==============================] - 0s 350us/step - loss: 3290.6569 - val_loss: 2877.2024\n",
      "Epoch 95/100\n",
      "291/291 [==============================] - 0s 336us/step - loss: 3283.9745 - val_loss: 2873.1667\n",
      "Epoch 96/100\n",
      "291/291 [==============================] - 0s 343us/step - loss: 3277.0058 - val_loss: 2867.1861\n",
      "Epoch 97/100\n",
      "291/291 [==============================] - 0s 353us/step - loss: 3271.5111 - val_loss: 2861.9000\n",
      "Epoch 98/100\n",
      "291/291 [==============================] - 0s 343us/step - loss: 3264.7928 - val_loss: 2856.1597\n",
      "Epoch 99/100\n",
      "291/291 [==============================] - 0s 353us/step - loss: 3259.5329 - val_loss: 2851.1604\n",
      "Epoch 100/100\n",
      "291/291 [==============================] - 0s 336us/step - loss: 3255.6881 - val_loss: 2849.2851\n"
     ]
    }
   ],
   "source": [
    "'''fitting model'''\n",
    "\n",
    "history = model.fit(xx_train, yy_train, validation_data=(xx_test, yy_test), epochs=100, batch_size=10)"
   ]
  },
  {
   "cell_type": "markdown",
   "metadata": {},
   "source": [
    "With execution of __*fit*__ function, we can see the loss for training dataset (__*loss*__) and loss for test dataset (__*val_loss*__) for each epoch. And losses corresponding to each epoch is saved in to __*history*__ variable in above example. Now we can plot the loss curves of training and test parts of the dataset as below,"
   ]
  },
  {
   "cell_type": "code",
   "execution_count": 7,
   "metadata": {
    "colab": {
     "base_uri": "https://localhost:8080/",
     "height": 295
    },
    "colab_type": "code",
    "executionInfo": {
     "elapsed": 842,
     "status": "ok",
     "timestamp": 1586144936859,
     "user": {
      "displayName": "lakmal Lakmal",
      "photoUrl": "",
      "userId": "15890829342024976793"
     },
     "user_tz": -420
    },
    "id": "zLM1IEI0ivGH",
    "outputId": "a5189f28-a654-4f9b-cc5a-aaf376fc433b"
   },
   "outputs": [
    {
     "data": {
      "image/png": "[encoded data removed]",
      "text/plain": [
       "<Figure size 432x288 with 1 Axes>"
      ]
     },
     "metadata": {},
     "output_type": "display_data"
    }
   ],
   "source": [
    "plt.plot(history.history['loss'])\n",
    "plt.plot(history.history['val_loss'])\n",
    "plt.title('Model Loss')\n",
    "plt.ylabel('Loss')\n",
    "plt.xlabel('Epoch')\n",
    "plt.legend(['Train', 'Test'], loc='upper right')\n",
    "plt.show()"
   ]
  },
  {
   "cell_type": "markdown",
   "metadata": {},
   "source": [
    "This curve is a very important curve to figure out what is the optimum number of epoch that we need to run. Here we are encountering 2 new important concepts in deep learning called over-fitting and under-fitting. Briefly,\n",
    "\n",
    "    - Over-fitting - when loss of test dataset started to increate after some number of epochs while loss of training dataset is still decreasing. This means model is not generalizing and training need to be stopped before overfitting.\n",
    "    \n",
    "    - Under-fitting - model stops while both loss of test and training dataset are still going down. That means training process is stopped pre-maturely and model need to be trained more.\n",
    "    \n",
    "Example over-fitting loss curve of test dataset:\n",
    "<img src=\"./graphics/overfitting.png\" width=\"66%\"/>\n",
    "\n",
    "There are lots of important statistical theories about over-fitting and under-fitting which are worth exploring more. But in summary, we should avoid over-fitting and under-fitting during training process in order to achieve optimum level of training.\n",
    "\n",
    "Finally, we can use trained model for prediction. To evaluate the model, it's always better to use test dataset because model has never seen the data in the test dataset during the training process. So evaluation on test dataset indicates how model will perform when model encounters new data."
   ]
  },
  {
   "cell_type": "code",
   "execution_count": 8,
   "metadata": {
    "colab": {
     "base_uri": "https://localhost:8080/",
     "height": 185
    },
    "colab_type": "code",
    "executionInfo": {
     "elapsed": 895,
     "status": "ok",
     "timestamp": 1586152916117,
     "user": {
      "displayName": "lakmal Lakmal",
      "photoUrl": "",
      "userId": "15890829342024976793"
     },
     "user_tz": -420
    },
    "id": "2GghEzpMmv_1",
    "outputId": "d2945fc6-cd60-4f56-aabe-0c7e86d9c8f6"
   },
   "outputs": [
    {
     "name": "stdout",
     "output_type": "stream",
     "text": [
      "Predicted: 208.96169, Actual: 236.0\n"
     ]
    }
   ],
   "source": [
    "'''Prediction over the test dataset'''\n",
    "pred_test = model.predict(xx_test)\n",
    "\n",
    "#let's compare sample predicted and actual y values \n",
    "print('Predicted: '+str(pred_test[12][0])+', Actual: '+str(yy_test[12]))"
   ]
  },
  {
   "cell_type": "markdown",
   "metadata": {
    "colab_type": "text",
    "id": "4TGXk2sPl5YJ"
   },
   "source": [
    "*Exercise: Calculate RMSE Loss over the test dataset*\n",
    "\n",
    "Like in this example, many neural networks applications have similar patterns, in summary what often we have to do is,\n",
    "\n",
    "    1) Read and pre-process data\n",
    "    2) Split dataset in to training and test datasets (randomly)\n",
    "    3) Define the model, loss function and optimizer\n",
    "    4) Fit, validate and prediction\n",
    "\n",
    "Even though, just simple intuitive explanation are given here. There are lots of interesting mathematics going on under the hood. If you are interested, dig deep in to mathematics behind optimizers, neural network architectures, over-fitting / under-fitting, etc."
   ]
  },
  {
   "cell_type": "markdown",
   "metadata": {
    "colab_type": "text",
    "id": "5r_af1GSEaCU"
   },
   "source": [
    "## 2) Classification (2 Classes) with Neural Networks\n",
    "\n",
    "In the last example, we have used neural network to estimate blood sugar level which is a continuous variable. That problem is referred as the regression problem. And now, we will move in to the classification problem. In the classification problem, we have to classify input variable in to a class. Let's start with clarification problem of 2 classes.\n",
    "\n",
    "Here we will use \"Breast Cancer Wisconsin (Diagnostic)\" Data Set from sklearn library"
   ]
  },
  {
   "cell_type": "code",
   "execution_count": 9,
   "metadata": {
    "colab": {
     "base_uri": "https://localhost:8080/",
     "height": 319
    },
    "colab_type": "code",
    "executionInfo": {
     "elapsed": 872,
     "status": "ok",
     "timestamp": 1586152775261,
     "user": {
      "displayName": "lakmal Lakmal",
      "photoUrl": "",
      "userId": "15890829342024976793"
     },
     "user_tz": -420
    },
    "id": "w7pkOwdAmHi7",
    "outputId": "4ef4743b-12b7-4f6a-9247-ee747092266b"
   },
   "outputs": [
    {
     "name": "stdout",
     "output_type": "stream",
     "text": [
      "(569, 30)\n",
      "(569,)\n",
      "Class values in yy:[0 1]\n"
     ]
    }
   ],
   "source": [
    "xx,yy = datasets.load_breast_cancer(return_X_y=True)\n",
    "\n",
    "print(xx.shape)\n",
    "print(yy.shape)\n",
    "\n",
    "print('Class values in yy:' + str(np.unique(yy)))"
   ]
  },
  {
   "cell_type": "markdown",
   "metadata": {},
   "source": [
    "This dataset includes 569 data points, 30 input variables, and a single output variable representing weather breast cancer present or not (value 0 or 1).\n",
    "\n",
    "As before, first let's divide training and test datasets."
   ]
  },
  {
   "cell_type": "code",
   "execution_count": 10,
   "metadata": {
    "colab": {},
    "colab_type": "code",
    "id": "OaowXAGggl5d"
   },
   "outputs": [],
   "source": [
    "'''splitting training and test set'''\n",
    "\n",
    "split_pnt = int(569 * 0.66) # consider 2/3 as the split point. 66.66 % for training set, and 0.33 % for test set.\n",
    "\n",
    "xx_train = xx[:split_pnt,:]\n",
    "yy_train = yy[:split_pnt]\n",
    "\n",
    "xx_test = xx[split_pnt:,:]\n",
    "yy_test = yy[split_pnt:]"
   ]
  },
  {
   "cell_type": "markdown",
   "metadata": {},
   "source": [
    "Second, let’s define neural network. \n",
    "\n",
    "The main different here is use of __*sigmoid*__ activation at the last layer of the neural network. Since we are performing 2 class classification problem here, output should be either value 0 or 1. So, it's appropriate to use an activation function that scales output values between 0 and 1. Hence __*sigmoid*__ is the ideal function for 2 class classification problem."
   ]
  },
  {
   "cell_type": "code",
   "execution_count": 11,
   "metadata": {
    "colab": {},
    "colab_type": "code",
    "id": "GJwSrIl7EBqe"
   },
   "outputs": [],
   "source": [
    "'''define neural network architecture'''\n",
    "\n",
    "model = Sequential()\n",
    "\n",
    "model.add(Dense(6, input_dim=30, activation='relu'))\n",
    "model.add(Dense(6, activation='relu'))\n",
    "model.add(Dense(6, activation='relu'))\n",
    "model.add(Dense(1, activation='sigmoid'))\n",
    "\n",
    "model.compile(loss='mean_squared_error', optimizer='adam')"
   ]
  },
  {
   "cell_type": "markdown",
   "metadata": {},
   "source": [
    "Finally let's fit, plot the loss curves and validate the model."
   ]
  },
  {
   "cell_type": "code",
   "execution_count": 12,
   "metadata": {
    "scrolled": true
   },
   "outputs": [
    {
     "name": "stdout",
     "output_type": "stream",
     "text": [
      "Train on 375 samples, validate on 194 samples\n",
      "Epoch 1/100\n",
      "375/375 [==============================] - 0s 1ms/step - loss: 0.5086 - val_loss: 0.1566\n",
      "Epoch 2/100\n",
      "375/375 [==============================] - 0s 366us/step - loss: 0.1233 - val_loss: 0.0857\n",
      "Epoch 3/100\n",
      "375/375 [==============================] - 0s 352us/step - loss: 0.1227 - val_loss: 0.0943\n",
      "Epoch 4/100\n",
      "375/375 [==============================] - 0s 361us/step - loss: 0.0881 - val_loss: 0.1123\n",
      "Epoch 5/100\n",
      "375/375 [==============================] - 0s 360us/step - loss: 0.0898 - val_loss: 0.0917\n",
      "Epoch 6/100\n",
      "375/375 [==============================] - 0s 356us/step - loss: 0.0918 - val_loss: 0.0821\n",
      "Epoch 7/100\n",
      "375/375 [==============================] - 0s 353us/step - loss: 0.0887 - val_loss: 0.0773\n",
      "Epoch 8/100\n",
      "375/375 [==============================] - 0s 382us/step - loss: 0.1013 - val_loss: 0.0763\n",
      "Epoch 9/100\n",
      "375/375 [==============================] - 0s 353us/step - loss: 0.0924 - val_loss: 0.1410\n",
      "Epoch 10/100\n",
      "375/375 [==============================] - 0s 362us/step - loss: 0.0977 - val_loss: 0.0798\n",
      "Epoch 11/100\n",
      "375/375 [==============================] - 0s 354us/step - loss: 0.0898 - val_loss: 0.0905\n",
      "Epoch 12/100\n",
      "375/375 [==============================] - 0s 354us/step - loss: 0.0893 - val_loss: 0.1598\n",
      "Epoch 13/100\n",
      "375/375 [==============================] - 0s 347us/step - loss: 0.0840 - val_loss: 0.0832\n",
      "Epoch 14/100\n",
      "375/375 [==============================] - 0s 343us/step - loss: 0.0925 - val_loss: 0.0765\n",
      "Epoch 15/100\n",
      "375/375 [==============================] - 0s 352us/step - loss: 0.0772 - val_loss: 0.1094\n",
      "Epoch 16/100\n",
      "375/375 [==============================] - 0s 360us/step - loss: 0.0919 - val_loss: 0.0758\n",
      "Epoch 17/100\n",
      "375/375 [==============================] - 0s 355us/step - loss: 0.0716 - val_loss: 0.1060\n",
      "Epoch 18/100\n",
      "375/375 [==============================] - 0s 351us/step - loss: 0.0872 - val_loss: 0.0753\n",
      "Epoch 19/100\n",
      "375/375 [==============================] - 0s 359us/step - loss: 0.0824 - val_loss: 0.1243\n",
      "Epoch 20/100\n",
      "375/375 [==============================] - 0s 370us/step - loss: 0.0800 - val_loss: 0.0759\n",
      "Epoch 21/100\n",
      "375/375 [==============================] - 0s 345us/step - loss: 0.0739 - val_loss: 0.0850\n",
      "Epoch 22/100\n",
      "375/375 [==============================] - 0s 364us/step - loss: 0.0738 - val_loss: 0.0962\n",
      "Epoch 23/100\n",
      "375/375 [==============================] - 0s 363us/step - loss: 0.0867 - val_loss: 0.0854\n",
      "Epoch 24/100\n",
      "375/375 [==============================] - 0s 352us/step - loss: 0.1042 - val_loss: 0.0845\n",
      "Epoch 25/100\n",
      "375/375 [==============================] - 0s 354us/step - loss: 0.0782 - val_loss: 0.0731\n",
      "Epoch 26/100\n",
      "375/375 [==============================] - 0s 368us/step - loss: 0.0840 - val_loss: 0.1664\n",
      "Epoch 27/100\n",
      "375/375 [==============================] - 0s 351us/step - loss: 0.0772 - val_loss: 0.0728\n",
      "Epoch 28/100\n",
      "375/375 [==============================] - 0s 356us/step - loss: 0.1025 - val_loss: 0.1458\n",
      "Epoch 29/100\n",
      "375/375 [==============================] - 0s 370us/step - loss: 0.0711 - val_loss: 0.0713\n",
      "Epoch 30/100\n",
      "375/375 [==============================] - 0s 370us/step - loss: 0.0843 - val_loss: 0.0711\n",
      "Epoch 31/100\n",
      "375/375 [==============================] - 0s 358us/step - loss: 0.0771 - val_loss: 0.0788\n",
      "Epoch 32/100\n",
      "375/375 [==============================] - 0s 349us/step - loss: 0.0786 - val_loss: 0.0713\n",
      "Epoch 33/100\n",
      "375/375 [==============================] - 0s 348us/step - loss: 0.0839 - val_loss: 0.0776\n",
      "Epoch 34/100\n",
      "375/375 [==============================] - 0s 355us/step - loss: 0.0812 - val_loss: 0.0743\n",
      "Epoch 35/100\n",
      "375/375 [==============================] - 0s 347us/step - loss: 0.1019 - val_loss: 0.0706\n",
      "Epoch 36/100\n",
      "375/375 [==============================] - 0s 351us/step - loss: 0.0754 - val_loss: 0.0704\n",
      "Epoch 37/100\n",
      "375/375 [==============================] - 0s 347us/step - loss: 0.0797 - val_loss: 0.0710\n",
      "Epoch 38/100\n",
      "375/375 [==============================] - 0s 350us/step - loss: 0.0936 - val_loss: 0.1285\n",
      "Epoch 39/100\n",
      "375/375 [==============================] - 0s 350us/step - loss: 0.0760 - val_loss: 0.1080\n",
      "Epoch 40/100\n",
      "375/375 [==============================] - 0s 352us/step - loss: 0.0797 - val_loss: 0.0696\n",
      "Epoch 41/100\n",
      "375/375 [==============================] - 0s 354us/step - loss: 0.0796 - val_loss: 0.0689\n",
      "Epoch 42/100\n",
      "375/375 [==============================] - 0s 354us/step - loss: 0.0737 - val_loss: 0.0767\n",
      "Epoch 43/100\n",
      "375/375 [==============================] - 0s 348us/step - loss: 0.0774 - val_loss: 0.1011\n",
      "Epoch 44/100\n",
      "375/375 [==============================] - 0s 354us/step - loss: 0.0818 - val_loss: 0.0930\n",
      "Epoch 45/100\n",
      "375/375 [==============================] - 0s 393us/step - loss: 0.0745 - val_loss: 0.1202\n",
      "Epoch 46/100\n",
      "375/375 [==============================] - 0s 353us/step - loss: 0.0805 - val_loss: 0.1002\n",
      "Epoch 47/100\n",
      "375/375 [==============================] - 0s 342us/step - loss: 0.1172 - val_loss: 0.1277\n",
      "Epoch 48/100\n",
      "375/375 [==============================] - 0s 345us/step - loss: 0.0954 - val_loss: 0.1347\n",
      "Epoch 49/100\n",
      "375/375 [==============================] - 0s 346us/step - loss: 0.0855 - val_loss: 0.0682\n",
      "Epoch 50/100\n",
      "375/375 [==============================] - 0s 352us/step - loss: 0.0772 - val_loss: 0.0776\n",
      "Epoch 51/100\n",
      "375/375 [==============================] - 0s 352us/step - loss: 0.0688 - val_loss: 0.0734\n",
      "Epoch 52/100\n",
      "375/375 [==============================] - 0s 365us/step - loss: 0.0785 - val_loss: 0.1167\n",
      "Epoch 53/100\n",
      "375/375 [==============================] - 0s 355us/step - loss: 0.0833 - val_loss: 0.0674\n",
      "Epoch 54/100\n",
      "375/375 [==============================] - 0s 350us/step - loss: 0.0747 - val_loss: 0.0752\n",
      "Epoch 55/100\n",
      "375/375 [==============================] - 0s 351us/step - loss: 0.0775 - val_loss: 0.0937\n",
      "Epoch 56/100\n",
      "375/375 [==============================] - 0s 351us/step - loss: 0.0852 - val_loss: 0.0689\n",
      "Epoch 57/100\n",
      "375/375 [==============================] - 0s 357us/step - loss: 0.0716 - val_loss: 0.0996\n",
      "Epoch 58/100\n",
      "375/375 [==============================] - 0s 356us/step - loss: 0.0721 - val_loss: 0.0684\n",
      "Epoch 59/100\n",
      "375/375 [==============================] - 0s 347us/step - loss: 0.0844 - val_loss: 0.0684\n",
      "Epoch 60/100\n",
      "375/375 [==============================] - 0s 348us/step - loss: 0.0785 - val_loss: 0.0651\n",
      "Epoch 61/100\n",
      "375/375 [==============================] - 0s 359us/step - loss: 0.0749 - val_loss: 0.0642\n",
      "Epoch 62/100\n",
      "375/375 [==============================] - 0s 348us/step - loss: 0.0609 - val_loss: 0.1102\n",
      "Epoch 63/100\n",
      "375/375 [==============================] - 0s 351us/step - loss: 0.0823 - val_loss: 0.0985\n",
      "Epoch 64/100\n",
      "375/375 [==============================] - 0s 346us/step - loss: 0.0734 - val_loss: 0.0680\n",
      "Epoch 65/100\n",
      "375/375 [==============================] - 0s 350us/step - loss: 0.0702 - val_loss: 0.1221\n",
      "Epoch 66/100\n",
      "375/375 [==============================] - 0s 353us/step - loss: 0.0780 - val_loss: 0.0657\n",
      "Epoch 67/100\n",
      "375/375 [==============================] - 0s 356us/step - loss: 0.0848 - val_loss: 0.0694\n",
      "Epoch 68/100\n",
      "375/375 [==============================] - 0s 354us/step - loss: 0.0816 - val_loss: 0.1268\n",
      "Epoch 69/100\n",
      "375/375 [==============================] - 0s 354us/step - loss: 0.0719 - val_loss: 0.0739\n",
      "Epoch 70/100\n",
      "375/375 [==============================] - 0s 354us/step - loss: 0.0677 - val_loss: 0.0619\n",
      "Epoch 71/100\n",
      "375/375 [==============================] - 0s 354us/step - loss: 0.0645 - val_loss: 0.0681\n",
      "Epoch 72/100\n",
      "375/375 [==============================] - 0s 350us/step - loss: 0.0682 - val_loss: 0.0671\n",
      "Epoch 73/100\n",
      "375/375 [==============================] - 0s 350us/step - loss: 0.0725 - val_loss: 0.1209\n",
      "Epoch 74/100\n",
      "375/375 [==============================] - 0s 351us/step - loss: 0.0697 - val_loss: 0.0635\n",
      "Epoch 75/100\n",
      "375/375 [==============================] - 0s 338us/step - loss: 0.0763 - val_loss: 0.0638\n",
      "Epoch 76/100\n",
      "375/375 [==============================] - 0s 354us/step - loss: 0.0824 - val_loss: 0.0957\n",
      "Epoch 77/100\n",
      "375/375 [==============================] - 0s 346us/step - loss: 0.0700 - val_loss: 0.0768\n",
      "Epoch 78/100\n",
      "375/375 [==============================] - 0s 351us/step - loss: 0.0704 - val_loss: 0.0612\n",
      "Epoch 79/100\n",
      "375/375 [==============================] - 0s 345us/step - loss: 0.0725 - val_loss: 0.0667\n",
      "Epoch 80/100\n",
      "375/375 [==============================] - 0s 343us/step - loss: 0.0863 - val_loss: 0.0707\n",
      "Epoch 81/100\n",
      "375/375 [==============================] - 0s 349us/step - loss: 0.0722 - val_loss: 0.0649\n",
      "Epoch 82/100\n",
      "375/375 [==============================] - 0s 341us/step - loss: 0.0641 - val_loss: 0.1081\n",
      "Epoch 83/100\n",
      "375/375 [==============================] - 0s 340us/step - loss: 0.0771 - val_loss: 0.1421\n",
      "Epoch 84/100\n",
      "375/375 [==============================] - 0s 348us/step - loss: 0.0685 - val_loss: 0.1665\n",
      "Epoch 85/100\n",
      "375/375 [==============================] - 0s 346us/step - loss: 0.0700 - val_loss: 0.1204\n",
      "Epoch 86/100\n",
      "375/375 [==============================] - 0s 338us/step - loss: 0.0633 - val_loss: 0.0577\n",
      "Epoch 87/100\n",
      "375/375 [==============================] - 0s 342us/step - loss: 0.0680 - val_loss: 0.0893\n",
      "Epoch 88/100\n",
      "375/375 [==============================] - 0s 340us/step - loss: 0.0732 - val_loss: 0.0583\n",
      "Epoch 89/100\n",
      "375/375 [==============================] - 0s 342us/step - loss: 0.0702 - val_loss: 0.0620\n",
      "Epoch 90/100\n",
      "375/375 [==============================] - 0s 345us/step - loss: 0.0793 - val_loss: 0.0718\n",
      "Epoch 91/100\n",
      "375/375 [==============================] - 0s 350us/step - loss: 0.0797 - val_loss: 0.0726\n",
      "Epoch 92/100\n",
      "375/375 [==============================] - 0s 346us/step - loss: 0.0807 - val_loss: 0.0625\n",
      "Epoch 93/100\n",
      "375/375 [==============================] - 0s 352us/step - loss: 0.0653 - val_loss: 0.1489\n",
      "Epoch 94/100\n",
      "375/375 [==============================] - 0s 349us/step - loss: 0.0776 - val_loss: 0.0572\n",
      "Epoch 95/100\n",
      "375/375 [==============================] - 0s 346us/step - loss: 0.0609 - val_loss: 0.0565\n",
      "Epoch 96/100\n",
      "375/375 [==============================] - 0s 346us/step - loss: 0.0593 - val_loss: 0.1904\n",
      "Epoch 97/100\n",
      "375/375 [==============================] - 0s 346us/step - loss: 0.0836 - val_loss: 0.0793\n",
      "Epoch 98/100\n",
      "375/375 [==============================] - 0s 348us/step - loss: 0.0763 - val_loss: 0.0637\n",
      "Epoch 99/100\n",
      "375/375 [==============================] - 0s 346us/step - loss: 0.0650 - val_loss: 0.0741\n",
      "Epoch 100/100\n",
      "375/375 [==============================] - 0s 346us/step - loss: 0.0687 - val_loss: 0.1374\n"
     ]
    }
   ],
   "source": [
    "history = model.fit(xx_train, yy_train, validation_data=(xx_test, yy_test), epochs=100, batch_size=10)"
   ]
  },
  {
   "cell_type": "code",
   "execution_count": 13,
   "metadata": {},
   "outputs": [
    {
     "data": {
      "image/png": "[encoded data removed]",
      "text/plain": [
       "<Figure size 432x288 with 1 Axes>"
      ]
     },
     "metadata": {},
     "output_type": "display_data"
    }
   ],
   "source": [
    "plt.plot(history.history['loss'])\n",
    "plt.plot(history.history['val_loss'])\n",
    "plt.title('Model Loss')\n",
    "plt.ylabel('Loss')\n",
    "plt.xlabel('Epoch')\n",
    "plt.legend(['Train', 'Test'], loc='upper right')\n",
    "plt.show()"
   ]
  },
  {
   "cell_type": "code",
   "execution_count": 16,
   "metadata": {
    "colab": {
     "base_uri": "https://localhost:8080/",
     "height": 202
    },
    "colab_type": "code",
    "executionInfo": {
     "elapsed": 6232,
     "status": "ok",
     "timestamp": 1586153103879,
     "user": {
      "displayName": "lakmal Lakmal",
      "photoUrl": "",
      "userId": "15890829342024976793"
     },
     "user_tz": -420
    },
    "id": "lO1rO1tPFFQV",
    "outputId": "c7c8bb68-7f19-4571-b0a1-cac63c17a0c5"
   },
   "outputs": [
    {
     "name": "stdout",
     "output_type": "stream",
     "text": [
      "Predicted: 0.0, Actual: 0\n"
     ]
    }
   ],
   "source": [
    "'''Prediction over the test dataset'''\n",
    "pred_test = model.predict(xx_test)\n",
    "\n",
    "#let's compare sample predicted and actual y values \n",
    "print('Predicted: '+str(np.round(pred_test[18][0]))+', Actual: '+str(yy_test[18]))"
   ]
  },
  {
   "cell_type": "markdown",
   "metadata": {},
   "source": [
    "*Exercise: Calculate confusion matrix and total accuracy over the test dataset*"
   ]
  },
  {
   "cell_type": "markdown",
   "metadata": {
    "colab_type": "text",
    "id": "36tIvEyhF-OM"
   },
   "source": [
    "## 3) Classification (Multi Classes) with Neural Networks\n",
    "\n",
    "Let's move in to a multi-class classification problem. Here, we will use Iris dataset from sklearn library."
   ]
  },
  {
   "cell_type": "code",
   "execution_count": 21,
   "metadata": {
    "colab": {
     "base_uri": "https://localhost:8080/",
     "height": 218
    },
    "colab_type": "code",
    "executionInfo": {
     "elapsed": 2295,
     "status": "ok",
     "timestamp": 1586157977632,
     "user": {
      "displayName": "lakmal Lakmal",
      "photoUrl": "",
      "userId": "15890829342024976793"
     },
     "user_tz": -420
    },
    "id": "zRXAZ0-LFSgt",
    "outputId": "e957b148-8487-4b93-b043-82188664b6d5"
   },
   "outputs": [
    {
     "name": "stdout",
     "output_type": "stream",
     "text": [
      "(150, 4)\n",
      "(150,)\n",
      "Class values in yy:[0 1 2]\n",
      "yy values: [0 0 0 0 0 0 0 0 0 0 0 0 0 0 0 0 0 0 0 0 0 0 0 0 0 0 0 0 0 0 0 0 0 0 0 0 0\n",
      " 0 0 0 0 0 0 0 0 0 0 0 0 0 1 1 1 1 1 1 1 1 1 1 1 1 1 1 1 1 1 1 1 1 1 1 1 1\n",
      " 1 1 1 1 1 1 1 1 1 1 1 1 1 1 1 1 1 1 1 1 1 1 1 1 1 1 2 2 2 2 2 2 2 2 2 2 2\n",
      " 2 2 2 2 2 2 2 2 2 2 2 2 2 2 2 2 2 2 2 2 2 2 2 2 2 2 2 2 2 2 2 2 2 2 2 2 2\n",
      " 2 2]\n"
     ]
    }
   ],
   "source": [
    "xx, yy = datasets.load_iris(return_X_y=True)\n",
    "\n",
    "print(xx.shape)\n",
    "print(yy.shape)\n",
    "\n",
    "print('Class values in yy:' + str(np.unique(yy)))\n",
    "print('yy values: '+str(yy))"
   ]
  },
  {
   "cell_type": "markdown",
   "metadata": {},
   "source": [
    "This dataset includes 150 data points, 4 input variables, and single output variable representing class of data points. There are 3 classes (class 0, class 1 and class 2).\n",
    "\n",
    "In this example, we can label our classes arbitrarily. We can use any number to indicate any class as we use here (values of 0, 1 and 2). Another problem associated with this numbering is, this numbers infer that in terms of values, these class labels are depended (like __*class 2 value*__ = __*class 1 value*__ times __*2*__, etc.). So these class labels should be independent. To solve this, we use a technique call one-hot encoding.\n",
    "\n",
    "Tensorflow (Keras) library include function for this. First, let's try it and see what it produces."
   ]
  },
  {
   "cell_type": "code",
   "execution_count": 22,
   "metadata": {
    "colab": {},
    "colab_type": "code",
    "id": "IZBGQ1l8HFx1"
   },
   "outputs": [
    {
     "name": "stdout",
     "output_type": "stream",
     "text": [
      "Class label shape: (150,)\n",
      "One-hot encoded shape: (150, 3)\n",
      "Example - Class label: 0, One-hot encoded: [1. 0. 0.]\n",
      "Example - Class label: 2, One-hot encoded: [0. 0. 1.]\n"
     ]
    }
   ],
   "source": [
    "'''one-hot encoding'''\n",
    "\n",
    "from keras.utils import to_categorical\n",
    "\n",
    "yy_cat = to_categorical(yy)\n",
    "\n",
    "# let's print shapes and example one-hot encoded value\n",
    "print('Class label shape: '+str(yy.shape))\n",
    "print('One-hot encoded shape: '+str(yy_cat.shape))\n",
    "\n",
    "print('Example - Class label: '+str(yy[10])+', One-hot encoded: '+str(yy_cat[10,:]))\n",
    "print('Example - Class label: '+str(yy[100])+', One-hot encoded: '+str(yy_cat[100,:]))"
   ]
  },
  {
   "cell_type": "markdown",
   "metadata": {},
   "source": [
    "We can see that in the process of one-hot encoding, vector was created for each __*yy*__ value with the length equivalent to number of classes. And value of the vector become 1 where index of the vector equals to class label leaving remaining values are as zeros. This process allow us to create interdependent class labels. If you are familiar with Linear Algebra, this is like independent basis for R^3 vector space. In summary, we use one-hot encoding to make class independent labels and this is very useful when it comes to multi-class classification problem.\n",
    "\n",
    "As before, now let's divide training and test datasets. But there is another issue here. If we look at the __*yy*__ values, they are like already sorted. So if we divide this data in to training and test set, first part which consisted of only __*class 1*__ and __*class 2*__ will be in the training set, and latter part (only __*class 3*__) will be in the test set. This is not representative of the whole dataset. So before we split the dataset in to training and test set, we have to randomize the dataset. For this process, we can use an in-built function with shuffle option in sklearn library."
   ]
  },
  {
   "cell_type": "code",
   "execution_count": 26,
   "metadata": {},
   "outputs": [
    {
     "name": "stdout",
     "output_type": "stream",
     "text": [
      "(100, 4)\n",
      "(50, 4)\n",
      "(100, 3)\n",
      "(50, 3)\n"
     ]
    }
   ],
   "source": [
    "from sklearn.model_selection import train_test_split\n",
    "\n",
    "xx_train, xx_test, yy_train, yy_test = train_test_split(xx, yy_cat, test_size=0.33, shuffle=True)\n",
    "\n",
    "# print shapes to make sure the split\n",
    "print(xx_train.shape)\n",
    "print(xx_test.shape)\n",
    "print(yy_train.shape)\n",
    "print(yy_test.shape)"
   ]
  },
  {
   "cell_type": "markdown",
   "metadata": {},
   "source": [
    "Finally let's define the model, fit, plot the loss curves and validate the model."
   ]
  },
  {
   "cell_type": "code",
   "execution_count": 27,
   "metadata": {
    "colab": {
     "base_uri": "https://localhost:8080/",
     "height": 231
    },
    "colab_type": "code",
    "executionInfo": {
     "elapsed": 925,
     "status": "error",
     "timestamp": 1589778912317,
     "user": {
      "displayName": "lakmal Lakmal",
      "photoUrl": "",
      "userId": "15890829342024976793"
     },
     "user_tz": -420
    },
    "id": "oQUi2JTUIlwX",
    "outputId": "7678dad4-a1a7-4656-f949-5e1dc458e089"
   },
   "outputs": [],
   "source": [
    "model = Sequential()\n",
    "\n",
    "model.add(Dense(32, input_dim=4, activation='relu'))\n",
    "model.add(Dense(32, activation='relu'))\n",
    "model.add(Dense(32, activation='relu'))\n",
    "model.add(Dense(3, activation='softmax'))\n",
    "\n",
    "model.compile(loss='categorical_crossentropy', optimizer='adam')"
   ]
  },
  {
   "cell_type": "markdown",
   "metadata": {},
   "source": [
    "One unique thing is use of __*softmax*__ as the activation function in the last layer. This works well with classification problems. Simply, it converts output values in to probabilities, brining output values to be compatible with one-hot encoded __*yy*__ values which varied between 0 and 1. Short description about __*softmax*__ activation can be seen in this nice short video.(https://www.youtube.com/watch?v=G8eNWzxOgqE)\n",
    "\n",
    "Other unique thing in this model is use of \"categorical cross-entropy\" as the loss function instead of \"mean squared error\". Experiments shows that \"categorical cross-entropy\" works well with the classification problem. Nice explanation about cross-entropy loss function can be seen here in this short video (https://www.youtube.com/watch?v=tRsSi_sqXjI). And even with the \"mean squared error\" function, model will work."
   ]
  },
  {
   "cell_type": "code",
   "execution_count": 28,
   "metadata": {},
   "outputs": [
    {
     "name": "stdout",
     "output_type": "stream",
     "text": [
      "Train on 100 samples, validate on 50 samples\n",
      "Epoch 1/100\n",
      "100/100 [==============================] - 1s 7ms/step - loss: 1.0323 - val_loss: 1.0021\n",
      "Epoch 2/100\n",
      "100/100 [==============================] - 0s 558us/step - loss: 0.9206 - val_loss: 0.8595\n",
      "Epoch 3/100\n",
      "100/100 [==============================] - 0s 528us/step - loss: 0.8291 - val_loss: 0.7491\n",
      "Epoch 4/100\n",
      "100/100 [==============================] - 0s 479us/step - loss: 0.7545 - val_loss: 0.6405\n",
      "Epoch 5/100\n",
      "100/100 [==============================] - 0s 489us/step - loss: 0.6770 - val_loss: 0.5651\n",
      "Epoch 6/100\n",
      "100/100 [==============================] - 0s 489us/step - loss: 0.5973 - val_loss: 0.4772\n",
      "Epoch 7/100\n",
      "100/100 [==============================] - 0s 494us/step - loss: 0.5373 - val_loss: 0.4142\n",
      "Epoch 8/100\n",
      "100/100 [==============================] - 0s 494us/step - loss: 0.4864 - val_loss: 0.3685\n",
      "Epoch 9/100\n",
      "100/100 [==============================] - 0s 489us/step - loss: 0.4437 - val_loss: 0.3366\n",
      "Epoch 10/100\n",
      "100/100 [==============================] - 0s 479us/step - loss: 0.4079 - val_loss: 0.3009\n",
      "Epoch 11/100\n",
      "100/100 [==============================] - 0s 479us/step - loss: 0.3726 - val_loss: 0.2855\n",
      "Epoch 12/100\n",
      "100/100 [==============================] - 0s 475us/step - loss: 0.3579 - val_loss: 0.2485\n",
      "Epoch 13/100\n",
      "100/100 [==============================] - 0s 469us/step - loss: 0.3358 - val_loss: 0.2279\n",
      "Epoch 14/100\n",
      "100/100 [==============================] - 0s 480us/step - loss: 0.3095 - val_loss: 0.2092\n",
      "Epoch 15/100\n",
      "100/100 [==============================] - 0s 479us/step - loss: 0.2807 - val_loss: 0.1917\n",
      "Epoch 16/100\n",
      "100/100 [==============================] - 0s 469us/step - loss: 0.2765 - val_loss: 0.1743\n",
      "Epoch 17/100\n",
      "100/100 [==============================] - 0s 480us/step - loss: 0.2724 - val_loss: 0.1699\n",
      "Epoch 18/100\n",
      "100/100 [==============================] - 0s 459us/step - loss: 0.2460 - val_loss: 0.1469\n",
      "Epoch 19/100\n",
      "100/100 [==============================] - 0s 499us/step - loss: 0.2286 - val_loss: 0.1371\n",
      "Epoch 20/100\n",
      "100/100 [==============================] - 0s 458us/step - loss: 0.2048 - val_loss: 0.1444\n",
      "Epoch 21/100\n",
      "100/100 [==============================] - 0s 473us/step - loss: 0.1913 - val_loss: 0.1188\n",
      "Epoch 22/100\n",
      "100/100 [==============================] - 0s 459us/step - loss: 0.1855 - val_loss: 0.1266\n",
      "Epoch 23/100\n",
      "100/100 [==============================] - 0s 499us/step - loss: 0.1771 - val_loss: 0.1008\n",
      "Epoch 24/100\n",
      "100/100 [==============================] - 0s 486us/step - loss: 0.1706 - val_loss: 0.1071\n",
      "Epoch 25/100\n",
      "100/100 [==============================] - 0s 499us/step - loss: 0.1568 - val_loss: 0.0937\n",
      "Epoch 26/100\n",
      "100/100 [==============================] - 0s 495us/step - loss: 0.1557 - val_loss: 0.0839\n",
      "Epoch 27/100\n",
      "100/100 [==============================] - 0s 489us/step - loss: 0.1635 - val_loss: 0.0985\n",
      "Epoch 28/100\n",
      "100/100 [==============================] - 0s 469us/step - loss: 0.1457 - val_loss: 0.0748\n",
      "Epoch 29/100\n",
      "100/100 [==============================] - 0s 469us/step - loss: 0.1363 - val_loss: 0.0973\n",
      "Epoch 30/100\n",
      "100/100 [==============================] - 0s 478us/step - loss: 0.1351 - val_loss: 0.0815\n",
      "Epoch 31/100\n",
      "100/100 [==============================] - 0s 499us/step - loss: 0.1265 - val_loss: 0.0671\n",
      "Epoch 32/100\n",
      "100/100 [==============================] - 0s 509us/step - loss: 0.1330 - val_loss: 0.0956\n",
      "Epoch 33/100\n",
      "100/100 [==============================] - 0s 492us/step - loss: 0.1263 - val_loss: 0.0681\n",
      "Epoch 34/100\n",
      "100/100 [==============================] - 0s 489us/step - loss: 0.1150 - val_loss: 0.0619\n",
      "Epoch 35/100\n",
      "100/100 [==============================] - 0s 502us/step - loss: 0.1178 - val_loss: 0.0953\n",
      "Epoch 36/100\n",
      "100/100 [==============================] - 0s 490us/step - loss: 0.1194 - val_loss: 0.0557\n",
      "Epoch 37/100\n",
      "100/100 [==============================] - 0s 457us/step - loss: 0.1229 - val_loss: 0.0715\n",
      "Epoch 38/100\n",
      "100/100 [==============================] - 0s 493us/step - loss: 0.1379 - val_loss: 0.0978\n",
      "Epoch 39/100\n",
      "100/100 [==============================] - 0s 482us/step - loss: 0.1373 - val_loss: 0.0442\n",
      "Epoch 40/100\n",
      "100/100 [==============================] - 0s 479us/step - loss: 0.1491 - val_loss: 0.1106\n",
      "Epoch 41/100\n",
      "100/100 [==============================] - 0s 496us/step - loss: 0.1148 - val_loss: 0.0438\n",
      "Epoch 42/100\n",
      "100/100 [==============================] - 0s 499us/step - loss: 0.0985 - val_loss: 0.0728\n",
      "Epoch 43/100\n",
      "100/100 [==============================] - 0s 486us/step - loss: 0.1001 - val_loss: 0.0516\n",
      "Epoch 44/100\n",
      "100/100 [==============================] - 0s 459us/step - loss: 0.1095 - val_loss: 0.0677\n",
      "Epoch 45/100\n",
      "100/100 [==============================] - 0s 479us/step - loss: 0.1021 - val_loss: 0.0692\n",
      "Epoch 46/100\n",
      "100/100 [==============================] - 0s 479us/step - loss: 0.0995 - val_loss: 0.0457\n",
      "Epoch 47/100\n",
      "100/100 [==============================] - 0s 469us/step - loss: 0.0902 - val_loss: 0.0789\n",
      "Epoch 48/100\n",
      "100/100 [==============================] - 0s 499us/step - loss: 0.0920 - val_loss: 0.0577\n",
      "Epoch 49/100\n",
      "100/100 [==============================] - 0s 486us/step - loss: 0.0895 - val_loss: 0.0437\n",
      "Epoch 50/100\n",
      "100/100 [==============================] - 0s 499us/step - loss: 0.0908 - val_loss: 0.0786\n",
      "Epoch 51/100\n",
      "100/100 [==============================] - 0s 475us/step - loss: 0.0988 - val_loss: 0.0599\n",
      "Epoch 52/100\n",
      "100/100 [==============================] - 0s 479us/step - loss: 0.0927 - val_loss: 0.0700\n",
      "Epoch 53/100\n",
      "100/100 [==============================] - 0s 479us/step - loss: 0.0867 - val_loss: 0.0366\n",
      "Epoch 54/100\n",
      "100/100 [==============================] - 0s 488us/step - loss: 0.0943 - val_loss: 0.0719\n",
      "Epoch 55/100\n",
      "100/100 [==============================] - 0s 469us/step - loss: 0.0842 - val_loss: 0.0316\n",
      "Epoch 56/100\n",
      "100/100 [==============================] - 0s 499us/step - loss: 0.0879 - val_loss: 0.0807\n",
      "Epoch 57/100\n",
      "100/100 [==============================] - 0s 459us/step - loss: 0.0844 - val_loss: 0.0369\n",
      "Epoch 58/100\n",
      "100/100 [==============================] - 0s 479us/step - loss: 0.0886 - val_loss: 0.0626\n",
      "Epoch 59/100\n",
      "100/100 [==============================] - 0s 469us/step - loss: 0.0871 - val_loss: 0.0797\n",
      "Epoch 60/100\n",
      "100/100 [==============================] - 0s 469us/step - loss: 0.0823 - val_loss: 0.0469\n",
      "Epoch 61/100\n",
      "100/100 [==============================] - 0s 479us/step - loss: 0.0940 - val_loss: 0.0566\n",
      "Epoch 62/100\n",
      "100/100 [==============================] - 0s 479us/step - loss: 0.0919 - val_loss: 0.0337\n",
      "Epoch 63/100\n",
      "100/100 [==============================] - 0s 459us/step - loss: 0.0911 - val_loss: 0.0680\n",
      "Epoch 64/100\n",
      "100/100 [==============================] - 0s 466us/step - loss: 0.0890 - val_loss: 0.0520\n",
      "Epoch 65/100\n",
      "100/100 [==============================] - 0s 459us/step - loss: 0.0872 - val_loss: 0.0439\n",
      "Epoch 66/100\n",
      "100/100 [==============================] - 0s 477us/step - loss: 0.0849 - val_loss: 0.0568\n",
      "Epoch 67/100\n",
      "100/100 [==============================] - 0s 459us/step - loss: 0.0859 - val_loss: 0.0411\n",
      "Epoch 68/100\n",
      "100/100 [==============================] - 0s 439us/step - loss: 0.0776 - val_loss: 0.0812\n",
      "Epoch 69/100\n",
      "100/100 [==============================] - 0s 509us/step - loss: 0.0936 - val_loss: 0.0430\n",
      "Epoch 70/100\n",
      "100/100 [==============================] - 0s 459us/step - loss: 0.0862 - val_loss: 0.0476\n",
      "Epoch 71/100\n",
      "100/100 [==============================] - 0s 469us/step - loss: 0.0786 - val_loss: 0.0439\n",
      "Epoch 72/100\n",
      "100/100 [==============================] - 0s 469us/step - loss: 0.0948 - val_loss: 0.0498\n",
      "Epoch 73/100\n",
      "100/100 [==============================] - 0s 479us/step - loss: 0.0893 - val_loss: 0.0682\n",
      "Epoch 74/100\n",
      "100/100 [==============================] - 0s 459us/step - loss: 0.0777 - val_loss: 0.0440\n",
      "Epoch 75/100\n",
      "100/100 [==============================] - 0s 439us/step - loss: 0.0788 - val_loss: 0.0521\n",
      "Epoch 76/100\n",
      "100/100 [==============================] - 0s 468us/step - loss: 0.0830 - val_loss: 0.0389\n",
      "Epoch 77/100\n",
      "100/100 [==============================] - 0s 473us/step - loss: 0.0927 - val_loss: 0.0504\n",
      "Epoch 78/100\n",
      "100/100 [==============================] - 0s 478us/step - loss: 0.0726 - val_loss: 0.0826\n",
      "Epoch 79/100\n",
      "100/100 [==============================] - 0s 449us/step - loss: 0.0816 - val_loss: 0.0665\n",
      "Epoch 80/100\n",
      "100/100 [==============================] - 0s 479us/step - loss: 0.1117 - val_loss: 0.0667\n",
      "Epoch 81/100\n",
      "100/100 [==============================] - 0s 499us/step - loss: 0.0789 - val_loss: 0.0699\n",
      "Epoch 82/100\n",
      "100/100 [==============================] - 0s 489us/step - loss: 0.1024 - val_loss: 0.0527\n",
      "Epoch 83/100\n",
      "100/100 [==============================] - 0s 469us/step - loss: 0.0953 - val_loss: 0.0917\n",
      "Epoch 84/100\n",
      "100/100 [==============================] - 0s 479us/step - loss: 0.1065 - val_loss: 0.0248\n",
      "Epoch 85/100\n",
      "100/100 [==============================] - 0s 459us/step - loss: 0.0597 - val_loss: 0.1010\n",
      "Epoch 86/100\n",
      "100/100 [==============================] - 0s 469us/step - loss: 0.0767 - val_loss: 0.0638\n",
      "Epoch 87/100\n",
      "100/100 [==============================] - 0s 478us/step - loss: 0.0813 - val_loss: 0.0759\n",
      "Epoch 88/100\n",
      "100/100 [==============================] - 0s 568us/step - loss: 0.0871 - val_loss: 0.0348\n",
      "Epoch 89/100\n",
      "100/100 [==============================] - 0s 459us/step - loss: 0.0717 - val_loss: 0.1080\n",
      "Epoch 90/100\n",
      "100/100 [==============================] - 0s 469us/step - loss: 0.0817 - val_loss: 0.0395\n",
      "Epoch 91/100\n",
      "100/100 [==============================] - 0s 448us/step - loss: 0.0916 - val_loss: 0.0644\n",
      "Epoch 92/100\n",
      "100/100 [==============================] - 0s 449us/step - loss: 0.0853 - val_loss: 0.0645\n",
      "Epoch 93/100\n",
      "100/100 [==============================] - 0s 449us/step - loss: 0.0727 - val_loss: 0.0305\n",
      "Epoch 94/100\n",
      "100/100 [==============================] - 0s 489us/step - loss: 0.0673 - val_loss: 0.0732\n",
      "Epoch 95/100\n",
      "100/100 [==============================] - 0s 439us/step - loss: 0.0726 - val_loss: 0.0614\n",
      "Epoch 96/100\n",
      "100/100 [==============================] - 0s 479us/step - loss: 0.0805 - val_loss: 0.0745\n",
      "Epoch 97/100\n",
      "100/100 [==============================] - 0s 469us/step - loss: 0.0754 - val_loss: 0.0579\n",
      "Epoch 98/100\n",
      "100/100 [==============================] - 0s 469us/step - loss: 0.0683 - val_loss: 0.0508\n",
      "Epoch 99/100\n",
      "100/100 [==============================] - 0s 419us/step - loss: 0.0660 - val_loss: 0.0672\n",
      "Epoch 100/100\n",
      "100/100 [==============================] - 0s 449us/step - loss: 0.1076 - val_loss: 0.0281\n"
     ]
    }
   ],
   "source": [
    "history = model.fit(xx_train, yy_train, validation_data=(xx_test, yy_test), epochs=100, batch_size=10)"
   ]
  },
  {
   "cell_type": "code",
   "execution_count": 29,
   "metadata": {
    "colab": {
     "base_uri": "https://localhost:8080/",
     "height": 295
    },
    "colab_type": "code",
    "executionInfo": {
     "elapsed": 1065,
     "status": "ok",
     "timestamp": 1586160067370,
     "user": {
      "displayName": "lakmal Lakmal",
      "photoUrl": "",
      "userId": "15890829342024976793"
     },
     "user_tz": -420
    },
    "id": "CsmBGI95I6cj",
    "outputId": "a85d7345-7b3d-4978-e768-690ce1c85714"
   },
   "outputs": [
    {
     "data": {
      "image/png": "[encoded data removed]",
      "text/plain": [
       "<Figure size 432x288 with 1 Axes>"
      ]
     },
     "metadata": {},
     "output_type": "display_data"
    }
   ],
   "source": [
    "plt.plot(history.history['loss'])\n",
    "plt.plot(history.history['val_loss'])\n",
    "plt.title('Model Loss')\n",
    "plt.ylabel('Loss')\n",
    "plt.xlabel('Epoch')\n",
    "plt.legend(['Train', 'Test'], loc='upper left')\n",
    "plt.show()"
   ]
  },
  {
   "cell_type": "code",
   "execution_count": 30,
   "metadata": {},
   "outputs": [
    {
     "name": "stdout",
     "output_type": "stream",
     "text": [
      "Predicted: [1. 0. 0.], Actual: [1. 0. 0.]\n"
     ]
    }
   ],
   "source": [
    "'''Prediction over the test dataset'''\n",
    "pred_test = model.predict(xx_test)\n",
    "\n",
    "#let's compare sample predicted and actual y values \n",
    "print('Predicted: '+str(np.round(pred_test[12]))+', Actual: '+str(yy_test[12]))"
   ]
  },
  {
   "cell_type": "code",
   "execution_count": 0,
   "metadata": {
    "colab": {},
    "colab_type": "code",
    "id": "TQe6NWLCjcok"
   },
   "outputs": [],
   "source": []
  }
 ],
 "metadata": {
  "accelerator": "TPU",
  "colab": {
   "authorship_tag": "ABX9TyNDNKVVwT+76g20vy7Jn0Ra",
   "collapsed_sections": [],
   "name": "NB_Part2.ipynb",
   "provenance": []
  },
  "kernelspec": {
   "display_name": "Python 3",
   "language": "python",
   "name": "python3"
  },
  "language_info": {
   "codemirror_mode": {
    "name": "ipython",
    "version": 3
   },
   "file_extension": ".py",
   "mimetype": "text/x-python",
   "name": "python",
   "nbconvert_exporter": "python",
   "pygments_lexer": "ipython3",
   "version": "3.6.2"
  }
 },
 "nbformat": 4,
 "nbformat_minor": 1
}
