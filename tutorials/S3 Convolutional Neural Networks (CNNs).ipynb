{
 "cells": [
  {
   "cell_type": "markdown",
   "metadata": {},
   "source": [
    "# Section 3: Convolutional Neural Networks (CNNs)\n",
    "\n",
    "Here we will get familiar with new neural network architecture call Convolutional Neural Networks (CNN). All modern advances in computer vision are based on this idea of Convolutional Neural Networks.\n",
    "\n",
    "Following examples are covered during this section\n",
    "\n",
    "    1) Our first CNN (Classification Problem) - Hand Written Digit Recognition\n",
    "\n",
    "    2) Image to Image Prediction (Transpose Convolution) - Face Masking"
   ]
  },
  {
   "cell_type": "markdown",
   "metadata": {},
   "source": [
    "<hr>\n",
    "<hr>\n",
    "<hr>"
   ]
  },
  {
   "cell_type": "code",
   "execution_count": 2,
   "metadata": {},
   "outputs": [],
   "source": [
    "'''first, let's import libraries '''\n",
    "\n",
    "import numpy as np\n",
    "import matplotlib.pyplot as plt\n",
    "\n",
    "from tensorflow.python.keras import Sequential\n",
    "from tensorflow.python.keras.layers import Dense, Conv2D, MaxPooling2D, Flatten, Conv2DTranspose"
   ]
  },
  {
   "cell_type": "markdown",
   "metadata": {
    "colab_type": "text",
    "id": "b5yjZ-ES70tr"
   },
   "source": [
    "#### Why we need convolution neural networks (CNNs) ?\n",
    "\n",
    "In vanilla neural networks, all neurons are connected from one layer to another. But in case of images, all features are localized. As example, if we are trying to recognize a face in an image, neural network should focus on a part of the image that face is located. This can be achieved by introducing convolution operations in to neural network. In convolution operations, small window (kernel) is passed through an image to detect these localize features as below,\n",
    "\n",
    "<img src=\"./graphics/convolution.png\" width=\"60%\"/>\n",
    "<sub>Source of the figure: https://stanford.edu/~shervine/teaching/cs-230/</sub>\n",
    "\n",
    "On the other hand, lot's research in neuro sciences proves that human vision is hierarchical in nature. As example of human face, we first detect different kinds of edges (primary spatial features), second we see combination of different kinds of edges forming noses, eyes, mounth, etc. And then we see combination of noses, eyes, mouth, etc. (secondary spatial features) forming a full face. By stacking convolutional layers in a neural network, we can learn these hierarchical features which is very important in computer vision context.\n",
    "\n",
    "Following figure shows what different layers in CNN is learned in case of a human face which is consistence with models of hierarchical representation in neuro science.\n",
    "\n",
    "<img src=\"./graphics/WhatCNNLearn.PNG\" width=\"60%\"/>\n",
    "<sub>Source of the figure: https://arxiv.org/ftp/arxiv/papers/1509/1509.01951.pdf</sub>\n",
    "\n",
    "Additionally to convolution operations, operation call Max-pooling is also included in CNNs. Max-pooling operations extract maximum value from a region of an image (typically 2by2-pixel region) as below. And max-pooling operation reduced sizes when image is going to deeper levels of the neural network. This introduce translation invariance as well as increase efficiency of calculations of convolution operations in deeper layers in CNNs.\n",
    "\n",
    "<img src=\"./graphics/max-pooling.png\" width=\"40%\"/>\n",
    "<sub>Source of the figure: https://stanford.edu/~shervine/teaching/cs-230/</sub>\n",
    "\n",
    "So typically CNNs include set of convolutional and max pooling layers. So let's go ahead and built a simple CNN for hand written digital character recognition."
   ]
  },
  {
   "cell_type": "markdown",
   "metadata": {
    "colab_type": "text",
    "id": "xMVIaj0zNf2V"
   },
   "source": [
    "## 1) Our first CNN (Classification Problem) - Hand Written Digit Recognition\n",
    "\n",
    "Here we will use classic data set in computer vision research call MNIST from Tensorflow (Keras) library. First let's load the dataset."
   ]
  },
  {
   "cell_type": "code",
   "execution_count": 3,
   "metadata": {
    "colab": {
     "base_uri": "https://localhost:8080/",
     "height": 136
    },
    "colab_type": "code",
    "executionInfo": {
     "elapsed": 1445,
     "status": "ok",
     "timestamp": 1589779159550,
     "user": {
      "displayName": "lakmal Lakmal",
      "photoUrl": "",
      "userId": "15890829342024976793"
     },
     "user_tz": -420
    },
    "id": "8BwssrOT7JVu",
    "outputId": "1b6fb572-ca55-4d94-e7aa-4fc1a6ed66dc"
   },
   "outputs": [
    {
     "name": "stderr",
     "output_type": "stream",
     "text": [
      "Using TensorFlow backend.\n"
     ]
    },
    {
     "name": "stdout",
     "output_type": "stream",
     "text": [
      "X_train shape (60000, 28, 28)\n",
      "y_train shape (60000,)\n",
      "X_test shape (10000, 28, 28)\n",
      "y_test shape (10000,)\n"
     ]
    }
   ],
   "source": [
    "from keras.datasets import mnist\n",
    "\n",
    "# data is already randomized and split in to training / test sets. So we can go ahead and use them as it is.\n",
    "(x_train, y_train), (x_test, y_test) = mnist.load_data()\n",
    "\n",
    "print(\"X_train shape\", x_train.shape)\n",
    "print(\"y_train shape\", y_train.shape)\n",
    "print(\"X_test shape\", x_test.shape)\n",
    "print(\"y_test shape\", y_test.shape)"
   ]
  },
  {
   "cell_type": "code",
   "execution_count": 4,
   "metadata": {
    "colab": {
     "base_uri": "https://localhost:8080/",
     "height": 282
    },
    "colab_type": "code",
    "executionInfo": {
     "elapsed": 802,
     "status": "ok",
     "timestamp": 1589779162153,
     "user": {
      "displayName": "lakmal Lakmal",
      "photoUrl": "",
      "userId": "15890829342024976793"
     },
     "user_tz": -420
    },
    "id": "YxaVPgTjJ_sb",
    "outputId": "235c35ce-f61d-4b68-aa2f-6f943b27d1e6"
   },
   "outputs": [
    {
     "data": {
      "image/png": "[encoded data removed]",
      "text/plain": [
       "<Figure size 432x288 with 1 Axes>"
      ]
     },
     "metadata": {},
     "output_type": "display_data"
    },
    {
     "name": "stdout",
     "output_type": "stream",
     "text": [
      "Corresponding Y value: 3\n"
     ]
    }
   ],
   "source": [
    "# Let's plot a sample image and print corresponding output\n",
    "\n",
    "plt.imshow(x_train[10, :, :])\n",
    "plt.show()\n",
    "\n",
    "print('Corresponding Y value: ' + str(y_train[10]))"
   ]
  },
  {
   "cell_type": "markdown",
   "metadata": {},
   "source": [
    "And CNN require, input data in 4 dimensions (batch size, height, width, number of bands). Since we have gray-scale images, we have single band. In case of RGB images, number of bands must be 3. So let's reshape input data in order to compatible with CNN input."
   ]
  },
  {
   "cell_type": "code",
   "execution_count": 5,
   "metadata": {},
   "outputs": [],
   "source": [
    "x_train = x_train.reshape(60000, 28, 28, 1)\n",
    "x_test = x_test.reshape(10000, 28, 28, 1)"
   ]
  },
  {
   "cell_type": "markdown",
   "metadata": {},
   "source": [
    "Now let's perform one-hot encoding to encode digit class with in-built Keras function."
   ]
  },
  {
   "cell_type": "code",
   "execution_count": 6,
   "metadata": {
    "colab": {
     "base_uri": "https://localhost:8080/",
     "height": 85
    },
    "colab_type": "code",
    "executionInfo": {
     "elapsed": 984,
     "status": "ok",
     "timestamp": 1589779164336,
     "user": {
      "displayName": "lakmal Lakmal",
      "photoUrl": "",
      "userId": "15890829342024976793"
     },
     "user_tz": -420
    },
    "id": "Sru_M7FLB1Oz",
    "outputId": "426bbd73-80ec-4fd1-f415-55895965dbe5"
   },
   "outputs": [],
   "source": [
    "# one-hot encoding\n",
    "\n",
    "from keras.utils import to_categorical\n",
    "\n",
    "y_train = to_categorical(y_train)\n",
    "y_test = to_categorical(y_test)"
   ]
  },
  {
   "cell_type": "code",
   "execution_count": 7,
   "metadata": {},
   "outputs": [
    {
     "name": "stdout",
     "output_type": "stream",
     "text": [
      "X_train shape (60000, 28, 28, 1)\n",
      "y_train shape (60000, 10)\n",
      "X_test shape (10000, 28, 28, 1)\n",
      "y_test shape (10000, 10)\n"
     ]
    }
   ],
   "source": [
    "# And let's print new sizes of input and output variables\n",
    "\n",
    "print(\"X_train shape\", x_train.shape)\n",
    "print(\"y_train shape\", y_train.shape)\n",
    "print(\"X_test shape\", x_test.shape)\n",
    "print(\"y_test shape\", y_test.shape)"
   ]
  },
  {
   "cell_type": "markdown",
   "metadata": {},
   "source": [
    "Now let's define the CNN by adding few combinations of Convolution and Max-pooling layers. And finally, we will __*Flatten*__ the output of CNN converting 2D output into 1D output. Now as in vanilla neural networks, we can use __*Dense*__ layers which we are already got familiar in the last section."
   ]
  },
  {
   "cell_type": "code",
   "execution_count": 10,
   "metadata": {
    "colab": {},
    "colab_type": "code",
    "id": "66mgiF2M7zsF"
   },
   "outputs": [
    {
     "name": "stdout",
     "output_type": "stream",
     "text": [
      "_________________________________________________________________\n",
      "Layer (type)                 Output Shape              Param #   \n",
      "=================================================================\n",
      "conv2d_3 (Conv2D)            (None, 26, 26, 32)        320       \n",
      "_________________________________________________________________\n",
      "max_pooling2d_2 (MaxPooling2 (None, 13, 13, 32)        0         \n",
      "_________________________________________________________________\n",
      "conv2d_4 (Conv2D)            (None, 11, 11, 64)        18496     \n",
      "_________________________________________________________________\n",
      "max_pooling2d_3 (MaxPooling2 (None, 5, 5, 64)          0         \n",
      "_________________________________________________________________\n",
      "conv2d_5 (Conv2D)            (None, 3, 3, 64)          36928     \n",
      "_________________________________________________________________\n",
      "flatten_1 (Flatten)          (None, 576)               0         \n",
      "_________________________________________________________________\n",
      "dense_1 (Dense)              (None, 10)                5770      \n",
      "=================================================================\n",
      "Total params: 61,514\n",
      "Trainable params: 61,514\n",
      "Non-trainable params: 0\n",
      "_________________________________________________________________\n"
     ]
    }
   ],
   "source": [
    "model = Sequential()\n",
    "\n",
    "model.add(Conv2D(32, kernel_size=3, activation='relu', input_shape=(28,28,1))) # 32 convolution filters\n",
    "model.add(MaxPooling2D(pool_size=(2, 2))) # reducing width and height by 1/2 with max pooling\n",
    "model.add(Conv2D(64, kernel_size=3, activation='relu')) # 64 convolution filters\n",
    "model.add(MaxPooling2D(pool_size=(2, 2))) # reducing width and height by 1/2 with max pooling\n",
    "model.add(Conv2D(64, kernel_size=3, activation='relu')) # 64 convolution filters\n",
    "\n",
    "model.add(Flatten())\n",
    "model.add(Dense(10, activation='softmax')) # 10 units corresponding to 10 classes of digits\n",
    "\n",
    "# since this is a classification problem, cross-entropy is better as a loss.\n",
    "model.compile(optimizer='adam', loss='categorical_crossentropy') \n",
    "\n",
    "# this will print details of the model\n",
    "model.summary()"
   ]
  },
  {
   "cell_type": "code",
   "execution_count": 11,
   "metadata": {
    "colab": {},
    "colab_type": "code",
    "id": "kANwM966dbTB"
   },
   "outputs": [
    {
     "name": "stdout",
     "output_type": "stream",
     "text": [
      "Train on 60000 samples, validate on 10000 samples\n",
      "Epoch 1/100\n",
      "60000/60000 [==============================] - 1s 23us/step - loss: 5.2649 - val_loss: 3.5610\n",
      "Epoch 2/100\n",
      "60000/60000 [==============================] - 1s 17us/step - loss: 1.1117 - val_loss: 0.1364\n",
      "Epoch 3/100\n",
      "60000/60000 [==============================] - 1s 17us/step - loss: 0.1152 - val_loss: 0.0873\n",
      "Epoch 4/100\n",
      "60000/60000 [==============================] - 1s 17us/step - loss: 0.0723 - val_loss: 0.0749\n",
      "Epoch 5/100\n",
      "60000/60000 [==============================] - 1s 17us/step - loss: 0.0527 - val_loss: 0.0576\n",
      "Epoch 6/100\n",
      "60000/60000 [==============================] - 1s 17us/step - loss: 0.0400 - val_loss: 0.0551\n",
      "Epoch 7/100\n",
      "60000/60000 [==============================] - 1s 17us/step - loss: 0.0311 - val_loss: 0.0477\n",
      "Epoch 8/100\n",
      "60000/60000 [==============================] - 1s 17us/step - loss: 0.0250 - val_loss: 0.0512\n",
      "Epoch 9/100\n",
      "60000/60000 [==============================] - 1s 17us/step - loss: 0.0192 - val_loss: 0.0496\n",
      "Epoch 10/100\n",
      "60000/60000 [==============================] - 1s 17us/step - loss: 0.0151 - val_loss: 0.0493\n",
      "Epoch 11/100\n",
      "60000/60000 [==============================] - 1s 17us/step - loss: 0.0121 - val_loss: 0.0470\n",
      "Epoch 12/100\n",
      "60000/60000 [==============================] - 1s 17us/step - loss: 0.0094 - val_loss: 0.0493\n",
      "Epoch 13/100\n",
      "60000/60000 [==============================] - 1s 17us/step - loss: 0.0077 - val_loss: 0.0447\n",
      "Epoch 14/100\n",
      "60000/60000 [==============================] - 1s 17us/step - loss: 0.0055 - val_loss: 0.0448\n",
      "Epoch 15/100\n",
      "60000/60000 [==============================] - 1s 17us/step - loss: 0.0036 - val_loss: 0.0440\n",
      "Epoch 16/100\n",
      "60000/60000 [==============================] - 1s 17us/step - loss: 0.0026 - val_loss: 0.0465\n",
      "Epoch 17/100\n",
      "60000/60000 [==============================] - 1s 17us/step - loss: 0.0020 - val_loss: 0.0469\n",
      "Epoch 18/100\n",
      "60000/60000 [==============================] - 1s 17us/step - loss: 0.0016 - val_loss: 0.0455\n",
      "Epoch 19/100\n",
      "60000/60000 [==============================] - 1s 17us/step - loss: 0.0013 - val_loss: 0.0463\n",
      "Epoch 20/100\n",
      "60000/60000 [==============================] - 1s 17us/step - loss: 0.0011 - val_loss: 0.0468\n",
      "Epoch 21/100\n",
      "60000/60000 [==============================] - 1s 17us/step - loss: 9.7460e-04 - val_loss: 0.0469\n",
      "Epoch 22/100\n",
      "60000/60000 [==============================] - 1s 17us/step - loss: 8.8270e-04 - val_loss: 0.0477\n",
      "Epoch 23/100\n",
      "60000/60000 [==============================] - 1s 17us/step - loss: 8.1748e-04 - val_loss: 0.0481\n",
      "Epoch 24/100\n",
      "60000/60000 [==============================] - 1s 17us/step - loss: 7.4326e-04 - val_loss: 0.0478\n",
      "Epoch 25/100\n",
      "60000/60000 [==============================] - 1s 17us/step - loss: 6.8315e-04 - val_loss: 0.0490\n",
      "Epoch 26/100\n",
      "60000/60000 [==============================] - 1s 17us/step - loss: 6.4660e-04 - val_loss: 0.0482\n",
      "Epoch 27/100\n",
      "60000/60000 [==============================] - 1s 17us/step - loss: 6.0332e-04 - val_loss: 0.0486\n",
      "Epoch 28/100\n",
      "60000/60000 [==============================] - 1s 17us/step - loss: 5.7459e-04 - val_loss: 0.0486\n",
      "Epoch 29/100\n",
      "60000/60000 [==============================] - 1s 17us/step - loss: 5.4492e-04 - val_loss: 0.0491\n",
      "Epoch 30/100\n",
      "60000/60000 [==============================] - 1s 17us/step - loss: 5.2318e-04 - val_loss: 0.0497\n",
      "Epoch 31/100\n",
      "60000/60000 [==============================] - 1s 17us/step - loss: 5.0199e-04 - val_loss: 0.0498\n",
      "Epoch 32/100\n",
      "60000/60000 [==============================] - 1s 17us/step - loss: 4.8274e-04 - val_loss: 0.0496\n",
      "Epoch 33/100\n",
      "60000/60000 [==============================] - 1s 17us/step - loss: 4.6445e-04 - val_loss: 0.0502\n",
      "Epoch 34/100\n",
      "60000/60000 [==============================] - 1s 17us/step - loss: 4.5032e-04 - val_loss: 0.0504\n",
      "Epoch 35/100\n",
      "60000/60000 [==============================] - 1s 17us/step - loss: 4.3962e-04 - val_loss: 0.0503\n",
      "Epoch 36/100\n",
      "60000/60000 [==============================] - 1s 17us/step - loss: 4.2396e-04 - val_loss: 0.0505\n",
      "Epoch 37/100\n",
      "60000/60000 [==============================] - 1s 17us/step - loss: 4.1540e-04 - val_loss: 0.0518\n",
      "Epoch 38/100\n",
      "60000/60000 [==============================] - 1s 17us/step - loss: 4.0429e-04 - val_loss: 0.0511\n",
      "Epoch 39/100\n",
      "60000/60000 [==============================] - 1s 17us/step - loss: 3.9680e-04 - val_loss: 0.0512\n",
      "Epoch 40/100\n",
      "60000/60000 [==============================] - 1s 17us/step - loss: 3.8576e-04 - val_loss: 0.0519\n",
      "Epoch 41/100\n",
      "60000/60000 [==============================] - 1s 17us/step - loss: 3.7913e-04 - val_loss: 0.0514\n",
      "Epoch 42/100\n",
      "60000/60000 [==============================] - 1s 17us/step - loss: 3.7257e-04 - val_loss: 0.0520\n",
      "Epoch 43/100\n",
      "60000/60000 [==============================] - 1s 17us/step - loss: 3.6513e-04 - val_loss: 0.0519\n",
      "Epoch 44/100\n",
      "60000/60000 [==============================] - 1s 17us/step - loss: 3.6049e-04 - val_loss: 0.0526\n",
      "Epoch 45/100\n",
      "60000/60000 [==============================] - 1s 17us/step - loss: 3.5448e-04 - val_loss: 0.0525\n",
      "Epoch 46/100\n",
      "60000/60000 [==============================] - 1s 17us/step - loss: 3.4919e-04 - val_loss: 0.0521\n",
      "Epoch 47/100\n",
      "60000/60000 [==============================] - 1s 17us/step - loss: 3.4470e-04 - val_loss: 0.0524\n",
      "Epoch 48/100\n",
      "60000/60000 [==============================] - 1s 17us/step - loss: 3.4027e-04 - val_loss: 0.0530\n",
      "Epoch 49/100\n",
      "60000/60000 [==============================] - 1s 17us/step - loss: 3.3707e-04 - val_loss: 0.0525\n",
      "Epoch 50/100\n",
      "60000/60000 [==============================] - 1s 17us/step - loss: 3.3286e-04 - val_loss: 0.0535\n",
      "Epoch 51/100\n",
      "60000/60000 [==============================] - 1s 17us/step - loss: 3.2923e-04 - val_loss: 0.0534\n",
      "Epoch 52/100\n",
      "60000/60000 [==============================] - 1s 17us/step - loss: 3.2613e-04 - val_loss: 0.0535\n",
      "Epoch 53/100\n",
      "60000/60000 [==============================] - 1s 17us/step - loss: 3.2317e-04 - val_loss: 0.0540\n",
      "Epoch 54/100\n",
      "60000/60000 [==============================] - 1s 17us/step - loss: 3.2003e-04 - val_loss: 0.0538\n",
      "Epoch 55/100\n",
      "60000/60000 [==============================] - 1s 17us/step - loss: 3.1811e-04 - val_loss: 0.0547\n",
      "Epoch 56/100\n",
      "60000/60000 [==============================] - 1s 17us/step - loss: 3.1553e-04 - val_loss: 0.0542\n",
      "Epoch 57/100\n",
      "60000/60000 [==============================] - 1s 17us/step - loss: 3.1252e-04 - val_loss: 0.0550\n",
      "Epoch 58/100\n",
      "60000/60000 [==============================] - 1s 17us/step - loss: 3.1089e-04 - val_loss: 0.0549\n",
      "Epoch 59/100\n",
      "60000/60000 [==============================] - 1s 17us/step - loss: 3.0860e-04 - val_loss: 0.0546\n",
      "Epoch 60/100\n",
      "60000/60000 [==============================] - 1s 17us/step - loss: 3.0650e-04 - val_loss: 0.0550\n",
      "Epoch 61/100\n",
      "60000/60000 [==============================] - 1s 17us/step - loss: 3.0481e-04 - val_loss: 0.0555\n",
      "Epoch 62/100\n",
      "60000/60000 [==============================] - 1s 17us/step - loss: 3.0284e-04 - val_loss: 0.0554\n",
      "Epoch 63/100\n",
      "60000/60000 [==============================] - 1s 17us/step - loss: 3.0128e-04 - val_loss: 0.0560\n",
      "Epoch 64/100\n",
      "60000/60000 [==============================] - 1s 17us/step - loss: 2.9991e-04 - val_loss: 0.0556\n",
      "Epoch 65/100\n",
      "60000/60000 [==============================] - 1s 17us/step - loss: 2.9854e-04 - val_loss: 0.0556\n",
      "Epoch 66/100\n",
      "60000/60000 [==============================] - 1s 17us/step - loss: 2.9719e-04 - val_loss: 0.0558\n",
      "Epoch 67/100\n",
      "60000/60000 [==============================] - 1s 17us/step - loss: 2.9564e-04 - val_loss: 0.0563\n",
      "Epoch 68/100\n",
      "60000/60000 [==============================] - 1s 17us/step - loss: 2.9438e-04 - val_loss: 0.0565\n",
      "Epoch 69/100\n",
      "60000/60000 [==============================] - 1s 17us/step - loss: 2.9339e-04 - val_loss: 0.0568\n",
      "Epoch 70/100\n",
      "60000/60000 [==============================] - 1s 17us/step - loss: 2.9211e-04 - val_loss: 0.0568\n",
      "Epoch 71/100\n",
      "60000/60000 [==============================] - 1s 17us/step - loss: 2.9123e-04 - val_loss: 0.0574\n",
      "Epoch 72/100\n",
      "60000/60000 [==============================] - 1s 17us/step - loss: 2.9029e-04 - val_loss: 0.0573\n",
      "Epoch 73/100\n",
      "60000/60000 [==============================] - 1s 17us/step - loss: 2.8917e-04 - val_loss: 0.0569\n",
      "Epoch 74/100\n",
      "60000/60000 [==============================] - 1s 17us/step - loss: 2.8833e-04 - val_loss: 0.0574\n",
      "Epoch 75/100\n",
      "60000/60000 [==============================] - 1s 17us/step - loss: 2.8752e-04 - val_loss: 0.0577\n",
      "Epoch 76/100\n",
      "60000/60000 [==============================] - 1s 17us/step - loss: 2.8673e-04 - val_loss: 0.0578\n",
      "Epoch 77/100\n",
      "60000/60000 [==============================] - 1s 17us/step - loss: 2.8594e-04 - val_loss: 0.0578\n",
      "Epoch 78/100\n",
      "60000/60000 [==============================] - 1s 17us/step - loss: 2.8523e-04 - val_loss: 0.0578\n",
      "Epoch 79/100\n",
      "60000/60000 [==============================] - 1s 17us/step - loss: 2.8450e-04 - val_loss: 0.0581\n",
      "Epoch 80/100\n",
      "60000/60000 [==============================] - 1s 17us/step - loss: 2.8394e-04 - val_loss: 0.0584\n",
      "Epoch 81/100\n",
      "60000/60000 [==============================] - 1s 17us/step - loss: 2.8323e-04 - val_loss: 0.0586\n",
      "Epoch 82/100\n",
      "60000/60000 [==============================] - 1s 17us/step - loss: 2.8256e-04 - val_loss: 0.0587\n",
      "Epoch 83/100\n",
      "60000/60000 [==============================] - 1s 17us/step - loss: 2.8199e-04 - val_loss: 0.0588\n",
      "Epoch 84/100\n",
      "60000/60000 [==============================] - 1s 17us/step - loss: 2.8136e-04 - val_loss: 0.0588\n",
      "Epoch 85/100\n",
      "60000/60000 [==============================] - 1s 17us/step - loss: 2.8089e-04 - val_loss: 0.0590\n",
      "Epoch 86/100\n",
      "60000/60000 [==============================] - 1s 17us/step - loss: 2.8052e-04 - val_loss: 0.0593\n",
      "Epoch 87/100\n",
      "60000/60000 [==============================] - 1s 17us/step - loss: 2.7995e-04 - val_loss: 0.0595\n",
      "Epoch 88/100\n",
      "60000/60000 [==============================] - 1s 17us/step - loss: 2.7958e-04 - val_loss: 0.0596\n",
      "Epoch 89/100\n",
      "60000/60000 [==============================] - 1s 17us/step - loss: 2.7915e-04 - val_loss: 0.0596\n",
      "Epoch 90/100\n",
      "60000/60000 [==============================] - 1s 17us/step - loss: 2.7867e-04 - val_loss: 0.0599\n",
      "Epoch 91/100\n",
      "60000/60000 [==============================] - 1s 17us/step - loss: 2.7827e-04 - val_loss: 0.0600\n",
      "Epoch 92/100\n",
      "60000/60000 [==============================] - 1s 17us/step - loss: 2.7791e-04 - val_loss: 0.0598\n",
      "Epoch 93/100\n",
      "60000/60000 [==============================] - 1s 17us/step - loss: 2.7759e-04 - val_loss: 0.0598\n",
      "Epoch 94/100\n",
      "60000/60000 [==============================] - 1s 17us/step - loss: 2.7721e-04 - val_loss: 0.0605\n",
      "Epoch 95/100\n",
      "60000/60000 [==============================] - 1s 17us/step - loss: 2.7687e-04 - val_loss: 0.0604\n",
      "Epoch 96/100\n",
      "60000/60000 [==============================] - 1s 17us/step - loss: 2.7652e-04 - val_loss: 0.0607\n",
      "Epoch 97/100\n",
      "60000/60000 [==============================] - 1s 17us/step - loss: 2.7621e-04 - val_loss: 0.0607\n",
      "Epoch 98/100\n",
      "60000/60000 [==============================] - 1s 17us/step - loss: 2.7590e-04 - val_loss: 0.0609\n",
      "Epoch 99/100\n",
      "60000/60000 [==============================] - 1s 17us/step - loss: 2.7565e-04 - val_loss: 0.0612\n",
      "Epoch 100/100\n",
      "60000/60000 [==============================] - 1s 17us/step - loss: 2.7538e-04 - val_loss: 0.0613\n"
     ]
    }
   ],
   "source": [
    "history = model.fit(x_train, y_train, validation_data=(x_test, y_test), epochs=100, batch_size=1000)"
   ]
  },
  {
   "cell_type": "code",
   "execution_count": 12,
   "metadata": {
    "colab": {
     "base_uri": "https://localhost:8080/",
     "height": 295
    },
    "colab_type": "code",
    "executionInfo": {
     "elapsed": 420350,
     "status": "ok",
     "timestamp": 1589779622097,
     "user": {
      "displayName": "lakmal Lakmal",
      "photoUrl": "",
      "userId": "15890829342024976793"
     },
     "user_tz": -420
    },
    "id": "BdHdvCOxCKzk",
    "outputId": "8fd4aaea-9b3f-401e-dc1d-4e136c789e62"
   },
   "outputs": [
    {
     "data": {
      "image/png": "[encoded data removed]",
      "text/plain": [
       "<Figure size 432x288 with 1 Axes>"
      ]
     },
     "metadata": {},
     "output_type": "display_data"
    }
   ],
   "source": [
    "plt.plot(history.history['loss'])\n",
    "plt.plot(history.history['val_loss'])\n",
    "plt.title('Model Loss')\n",
    "plt.ylabel('Loss')\n",
    "plt.xlabel('Epoch')\n",
    "plt.legend(['Train', 'Test'], loc='upper left')\n",
    "plt.show()"
   ]
  },
  {
   "cell_type": "code",
   "execution_count": 13,
   "metadata": {
    "colab": {
     "base_uri": "https://localhost:8080/",
     "height": 68
    },
    "colab_type": "code",
    "executionInfo": {
     "elapsed": 806,
     "status": "ok",
     "timestamp": 1589779733394,
     "user": {
      "displayName": "lakmal Lakmal",
      "photoUrl": "",
      "userId": "15890829342024976793"
     },
     "user_tz": -420
    },
    "id": "Ww5ZOJQ-LPt-",
    "outputId": "d66bcb61-c722-4635-fac6-a83a0a224685"
   },
   "outputs": [
    {
     "name": "stdout",
     "output_type": "stream",
     "text": [
      "Predicted: [0. 0. 0. 0. 0. 0. 0. 0. 0. 1.], Actual: [0. 0. 0. 0. 0. 0. 0. 0. 0. 1.]\n"
     ]
    }
   ],
   "source": [
    "'''Prediction over the test dataset'''\n",
    "pred_test = model.predict(x_test)\n",
    "\n",
    "#let's compare random predicted and actual y values \n",
    "print('Predicted: '+str(np.round(pred_test[12]))+', Actual: '+str(y_test[12]))"
   ]
  },
  {
   "cell_type": "markdown",
   "metadata": {},
   "source": [
    "Another Nice Visualization about what CNN learns can be seen here with this URL - https://www.cs.ryerson.ca/~aharley/vis/conv/"
   ]
  },
  {
   "cell_type": "markdown",
   "metadata": {
    "colab_type": "text",
    "id": "rCd20HhHOcsb"
   },
   "source": [
    "## 2) Image to Image Prediction (Transpose Convolution) - Face Masking\n",
    "\n",
    "Now let's move in to an example that input and output both are images which is very common in satellite image analysis.\n",
    "\n",
    "In this example, we will use subset of \"Labeled Faces in the Wild (LFW) Dataset\". This dataset includes input RGB images of faces and output images of face masks (They are single band images. Pixel labels are either 0-background or 1-inside the face).\n",
    "\n",
    "So here in this example, let's build a CNN to detect face mask from RGB face images. And here, input and output both are images going beyond simple regression or classification that we did in last examples."
   ]
  },
  {
   "cell_type": "code",
   "execution_count": 14,
   "metadata": {
    "colab": {
     "base_uri": "https://localhost:8080/",
     "height": 84
    },
    "colab_type": "code",
    "executionInfo": {
     "elapsed": 790,
     "status": "ok",
     "timestamp": 1589799634163,
     "user": {
      "displayName": "lakmal Lakmal",
      "photoUrl": "",
      "userId": "15890829342024976793"
     },
     "user_tz": -420
    },
    "id": "LCnrWH_DWxzR",
    "outputId": "519855ee-354f-418b-b901-040945d13f5c"
   },
   "outputs": [
    {
     "name": "stdout",
     "output_type": "stream",
     "text": [
      "x_train shape (70, 128, 128, 3)\n",
      "y_train shape (70, 128, 128, 1)\n",
      "y_test shape (30, 128, 128, 3)\n",
      "y_test shape (30, 128, 128, 1)\n"
     ]
    }
   ],
   "source": [
    "'''loading data'''\n",
    "\n",
    "# data is already randomized and split in to training / test sets. So we can go ahead and use them as it is.\n",
    "x_train = np.load('./data/LFW/face_train.npy').astype('float32')\n",
    "y_train= np.load('./data/LFW/mask_train.npy').astype('float32')\n",
    "x_test = np.load('./data/LFW/face_test.npy').astype('float32')\n",
    "y_test = np.load('./data/LFW/mask_test.npy').astype('float32') \n",
    "\n",
    "print(\"x_train shape\", x_train.shape)\n",
    "print(\"y_train shape\", y_train.shape)\n",
    "print(\"y_test shape\", x_test.shape)\n",
    "print(\"y_test shape\", y_test.shape)"
   ]
  },
  {
   "cell_type": "code",
   "execution_count": 15,
   "metadata": {},
   "outputs": [],
   "source": [
    "x_train = (np.load('./../nn_face/face_xx_train.npy')*255).astype('uint8')\n",
    "y_train= np.load('./../nn_face/mask_yy_train.npy').astype('uint8')\n",
    "x_test = (np.load('./../nn_face/face_xx_test.npy')*255).astype('uint8')\n",
    "y_test = np.load('./../nn_face/mask_yy_test.npy').astype('uint8') \n",
    "\n",
    "np.save('./data/LFW/face_train.npy', x_train)\n",
    "np.save('./data/LFW/mask_train.npy', y_train)\n",
    "np.save('./data/LFW/face_test.npy', x_test)\n",
    "np.save('./data/LFW/mask_test.npy', y_test)"
   ]
  },
  {
   "cell_type": "code",
   "execution_count": 16,
   "metadata": {
    "colab": {
     "base_uri": "https://localhost:8080/",
     "height": 519
    },
    "colab_type": "code",
    "executionInfo": {
     "elapsed": 1822,
     "status": "ok",
     "timestamp": 1589799679640,
     "user": {
      "displayName": "lakmal Lakmal",
      "photoUrl": "",
      "userId": "15890829342024976793"
     },
     "user_tz": -420
    },
    "id": "EW4mWIMlWaEF",
    "outputId": "fd1d6b0c-2dd4-463c-9704-dca7ca078c20"
   },
   "outputs": [
    {
     "data": {
      "image/png": "[encoded data removed]",
      "text/plain": [
       "<Figure size 432x288 with 1 Axes>"
      ]
     },
     "metadata": {},
     "output_type": "display_data"
    },
    {
     "data": {
      "image/png": "[encoded data removed]",
      "text/plain": [
       "<Figure size 432x288 with 1 Axes>"
      ]
     },
     "metadata": {},
     "output_type": "display_data"
    }
   ],
   "source": [
    "'''let's visualize sample input and output data pair'''\n",
    "\n",
    "plt.imshow(x_train[5, :, :, :].astype('uint8'))\n",
    "plt.show()\n",
    "\n",
    "plt.imshow(y_train[5, :, :, 0])\n",
    "plt.show()"
   ]
  },
  {
   "cell_type": "markdown",
   "metadata": {
    "colab_type": "text",
    "id": "unhtGgcAhbpP"
   },
   "source": [
    "As in our last example, due to convolutional and max-pooling operations, we are losing resolution through the CNN. Since in this example, we are generating another image as an output, we should introduce another trainable operation to upscale with in neural network. This operation is called transpose convolution. And upscaling is achieved by performing transpose convolution with strides (skipping some pixels while going through entire image with a kernel).\n",
    "\n",
    "These figure shows transpose convolution without (top) and with (bottom) strides (Blue maps are inputs, and cyan maps are outputs)\n",
    "\n",
    "<img src=\"./graphics/t-convolution.gif\" width=\"30%\"/>\n",
    "<img src=\"./graphics/t-convolution-strides.gif\" width=\"30%\"/>\n",
    "<sub>Source of the figure: https://github.com/vdumoulin/conv_arithmetic/</sub>"
   ]
  },
  {
   "cell_type": "code",
   "execution_count": 17,
   "metadata": {
    "colab": {},
    "colab_type": "code",
    "id": "zRrTxgIXVJT5"
   },
   "outputs": [
    {
     "name": "stdout",
     "output_type": "stream",
     "text": [
      "_________________________________________________________________\n",
      "Layer (type)                 Output Shape              Param #   \n",
      "=================================================================\n",
      "conv2d_6 (Conv2D)            (None, 128, 128, 32)      896       \n",
      "_________________________________________________________________\n",
      "max_pooling2d_4 (MaxPooling2 (None, 64, 64, 32)        0         \n",
      "_________________________________________________________________\n",
      "conv2d_7 (Conv2D)            (None, 64, 64, 32)        9248      \n",
      "_________________________________________________________________\n",
      "max_pooling2d_5 (MaxPooling2 (None, 32, 32, 32)        0         \n",
      "_________________________________________________________________\n",
      "conv2d_8 (Conv2D)            (None, 32, 32, 64)        18496     \n",
      "_________________________________________________________________\n",
      "max_pooling2d_6 (MaxPooling2 (None, 16, 16, 64)        0         \n",
      "_________________________________________________________________\n",
      "conv2d_9 (Conv2D)            (None, 16, 16, 64)        36928     \n",
      "_________________________________________________________________\n",
      "conv2d_transpose (Conv2DTran (None, 16, 16, 64)        36928     \n",
      "_________________________________________________________________\n",
      "conv2d_transpose_1 (Conv2DTr (None, 32, 32, 64)        36928     \n",
      "_________________________________________________________________\n",
      "conv2d_transpose_2 (Conv2DTr (None, 64, 64, 32)        18464     \n",
      "_________________________________________________________________\n",
      "conv2d_transpose_3 (Conv2DTr (None, 128, 128, 32)      9248      \n",
      "_________________________________________________________________\n",
      "conv2d_transpose_4 (Conv2DTr (None, 128, 128, 1)       289       \n",
      "=================================================================\n",
      "Total params: 167,425\n",
      "Trainable params: 167,425\n",
      "Non-trainable params: 0\n",
      "_________________________________________________________________\n"
     ]
    }
   ],
   "source": [
    "'''defining the model'''\n",
    "\n",
    "model = Sequential()\n",
    "\n",
    "model.add(Conv2D(32, kernel_size=3, activation='relu', padding='same', input_shape=(128,128,3)))\n",
    "model.add(MaxPooling2D(pool_size=(2, 2)))\n",
    "model.add(Conv2D(32, kernel_size=3, padding='same', activation='relu'))\n",
    "model.add(MaxPooling2D(pool_size=(2, 2)))\n",
    "model.add(Conv2D(64, kernel_size=3, padding='same', activation='relu'))\n",
    "model.add(MaxPooling2D(pool_size=(2, 2)))\n",
    "model.add(Conv2D(64, kernel_size=3, padding='same', activation='relu'))\n",
    "\n",
    "model.add(Conv2DTranspose(64, kernel_size=3, padding='same', activation='relu'))\n",
    "model.add(Conv2DTranspose(64, kernel_size=3, padding='same', activation='relu', strides=(2, 2)))\n",
    "model.add(Conv2DTranspose(32, kernel_size=3, padding='same', activation='relu', strides=(2, 2)))\n",
    "model.add(Conv2DTranspose(32, kernel_size=3, padding='same', activation='relu', strides=(2, 2)))\n",
    "\n",
    "model.add(Conv2DTranspose(1, kernel_size=3, padding='same', activation='relu'))\n",
    "\n",
    "model.compile(optimizer='adam', loss='mean_squared_error')\n",
    "\n",
    "model.summary()"
   ]
  },
  {
   "cell_type": "code",
   "execution_count": 18,
   "metadata": {
    "colab": {
     "base_uri": "https://localhost:8080/",
     "height": 1000
    },
    "colab_type": "code",
    "executionInfo": {
     "elapsed": 172130,
     "status": "ok",
     "timestamp": 1589800559495,
     "user": {
      "displayName": "lakmal Lakmal",
      "photoUrl": "",
      "userId": "15890829342024976793"
     },
     "user_tz": -420
    },
    "id": "hxIm6apEdYyu",
    "outputId": "876469e9-5852-4609-82cd-8d53b9dc61f5",
    "scrolled": true
   },
   "outputs": [
    {
     "name": "stdout",
     "output_type": "stream",
     "text": [
      "Train on 70 samples, validate on 30 samples\n",
      "Epoch 1/50\n",
      "70/70 [==============================] - 1s 13ms/step - loss: 0.2130 - val_loss: 0.1352\n",
      "Epoch 2/50\n",
      "70/70 [==============================] - 0s 2ms/step - loss: 0.1459 - val_loss: 0.1408\n",
      "Epoch 3/50\n",
      "70/70 [==============================] - 0s 2ms/step - loss: 0.1296 - val_loss: 0.1447\n",
      "Epoch 4/50\n",
      "70/70 [==============================] - 0s 1ms/step - loss: 0.1301 - val_loss: 0.1258\n",
      "Epoch 5/50\n",
      "70/70 [==============================] - 0s 1ms/step - loss: 0.1141 - val_loss: 0.1052\n",
      "Epoch 6/50\n",
      "70/70 [==============================] - 0s 1ms/step - loss: 0.1082 - val_loss: 0.1016\n",
      "Epoch 7/50\n",
      "70/70 [==============================] - 0s 1ms/step - loss: 0.0916 - val_loss: 0.0830\n",
      "Epoch 8/50\n",
      "70/70 [==============================] - 0s 1ms/step - loss: 0.0871 - val_loss: 0.0834\n",
      "Epoch 9/50\n",
      "70/70 [==============================] - 0s 1ms/step - loss: 0.0836 - val_loss: 0.0773\n",
      "Epoch 10/50\n",
      "70/70 [==============================] - 0s 1ms/step - loss: 0.0794 - val_loss: 0.0757\n",
      "Epoch 11/50\n",
      "70/70 [==============================] - 0s 1ms/step - loss: 0.0776 - val_loss: 0.0717\n",
      "Epoch 12/50\n",
      "70/70 [==============================] - 0s 2ms/step - loss: 0.0723 - val_loss: 0.0688\n",
      "Epoch 13/50\n",
      "70/70 [==============================] - 0s 1ms/step - loss: 0.0693 - val_loss: 0.0656\n",
      "Epoch 14/50\n",
      "70/70 [==============================] - 0s 1ms/step - loss: 0.0793 - val_loss: 0.0706\n",
      "Epoch 15/50\n",
      "70/70 [==============================] - 0s 1ms/step - loss: 0.0724 - val_loss: 0.0665\n",
      "Epoch 16/50\n",
      "70/70 [==============================] - 0s 1ms/step - loss: 0.0698 - val_loss: 0.0738\n",
      "Epoch 17/50\n",
      "70/70 [==============================] - 0s 1ms/step - loss: 0.0700 - val_loss: 0.0794\n",
      "Epoch 18/50\n",
      "70/70 [==============================] - 0s 2ms/step - loss: 0.0650 - val_loss: 0.0644\n",
      "Epoch 19/50\n",
      "70/70 [==============================] - 0s 1ms/step - loss: 0.0582 - val_loss: 0.0643\n",
      "Epoch 20/50\n",
      "70/70 [==============================] - 0s 1ms/step - loss: 0.0566 - val_loss: 0.0647\n",
      "Epoch 21/50\n",
      "70/70 [==============================] - 0s 1ms/step - loss: 0.0543 - val_loss: 0.0639\n",
      "Epoch 22/50\n",
      "70/70 [==============================] - 0s 1ms/step - loss: 0.0529 - val_loss: 0.0663\n",
      "Epoch 23/50\n",
      "70/70 [==============================] - 0s 1ms/step - loss: 0.0549 - val_loss: 0.0704\n",
      "Epoch 24/50\n",
      "70/70 [==============================] - 0s 1ms/step - loss: 0.0503 - val_loss: 0.0608\n",
      "Epoch 25/50\n",
      "70/70 [==============================] - 0s 1ms/step - loss: 0.0471 - val_loss: 0.0623\n",
      "Epoch 26/50\n",
      "70/70 [==============================] - 0s 1ms/step - loss: 0.0439 - val_loss: 0.0614\n",
      "Epoch 27/50\n",
      "70/70 [==============================] - 0s 1ms/step - loss: 0.0415 - val_loss: 0.0624\n",
      "Epoch 28/50\n",
      "70/70 [==============================] - 0s 1ms/step - loss: 0.0409 - val_loss: 0.0618\n",
      "Epoch 29/50\n",
      "70/70 [==============================] - 0s 1ms/step - loss: 0.0400 - val_loss: 0.0695\n",
      "Epoch 30/50\n",
      "70/70 [==============================] - 0s 1ms/step - loss: 0.0382 - val_loss: 0.0622\n",
      "Epoch 31/50\n",
      "70/70 [==============================] - 0s 1ms/step - loss: 0.0354 - val_loss: 0.0616\n",
      "Epoch 32/50\n",
      "70/70 [==============================] - 0s 1ms/step - loss: 0.0335 - val_loss: 0.0626\n",
      "Epoch 33/50\n",
      "70/70 [==============================] - 0s 1ms/step - loss: 0.0336 - val_loss: 0.0650\n",
      "Epoch 34/50\n",
      "70/70 [==============================] - 0s 1ms/step - loss: 0.0369 - val_loss: 0.0618\n",
      "Epoch 35/50\n",
      "70/70 [==============================] - 0s 1ms/step - loss: 0.0348 - val_loss: 0.0766\n",
      "Epoch 36/50\n",
      "70/70 [==============================] - 0s 1ms/step - loss: 0.0336 - val_loss: 0.0611\n",
      "Epoch 37/50\n",
      "70/70 [==============================] - 0s 2ms/step - loss: 0.0286 - val_loss: 0.0595\n",
      "Epoch 38/50\n",
      "70/70 [==============================] - 0s 1ms/step - loss: 0.0254 - val_loss: 0.0633\n",
      "Epoch 39/50\n",
      "70/70 [==============================] - 0s 1ms/step - loss: 0.0250 - val_loss: 0.0604\n",
      "Epoch 40/50\n",
      "70/70 [==============================] - 0s 1ms/step - loss: 0.0224 - val_loss: 0.0614\n",
      "Epoch 41/50\n",
      "70/70 [==============================] - 0s 1ms/step - loss: 0.0213 - val_loss: 0.0628\n",
      "Epoch 42/50\n",
      "70/70 [==============================] - 0s 1ms/step - loss: 0.0215 - val_loss: 0.0662\n",
      "Epoch 43/50\n",
      "70/70 [==============================] - 0s 1ms/step - loss: 0.0210 - val_loss: 0.0633\n",
      "Epoch 44/50\n",
      "70/70 [==============================] - 0s 1ms/step - loss: 0.0198 - val_loss: 0.0633\n",
      "Epoch 45/50\n",
      "70/70 [==============================] - 0s 1ms/step - loss: 0.0187 - val_loss: 0.0626\n",
      "Epoch 46/50\n",
      "70/70 [==============================] - 0s 1ms/step - loss: 0.0181 - val_loss: 0.0618\n",
      "Epoch 47/50\n",
      "70/70 [==============================] - 0s 1ms/step - loss: 0.0175 - val_loss: 0.0619\n",
      "Epoch 48/50\n",
      "70/70 [==============================] - 0s 1ms/step - loss: 0.0170 - val_loss: 0.0617\n",
      "Epoch 49/50\n",
      "70/70 [==============================] - 0s 1ms/step - loss: 0.0169 - val_loss: 0.0631\n",
      "Epoch 50/50\n",
      "70/70 [==============================] - 0s 1ms/step - loss: 0.0160 - val_loss: 0.0620\n"
     ]
    }
   ],
   "source": [
    "history = model.fit(x_train, y_train, validation_data=(x_test, y_test), epochs=50, batch_size=10)"
   ]
  },
  {
   "cell_type": "code",
   "execution_count": 19,
   "metadata": {
    "colab": {
     "base_uri": "https://localhost:8080/",
     "height": 295
    },
    "colab_type": "code",
    "executionInfo": {
     "elapsed": 10293,
     "status": "ok",
     "timestamp": 1589800559864,
     "user": {
      "displayName": "lakmal Lakmal",
      "photoUrl": "",
      "userId": "15890829342024976793"
     },
     "user_tz": -420
    },
    "id": "2XjNiCUgdpAE",
    "outputId": "560cf8d7-9f8a-401f-e506-7dbda69ca0af"
   },
   "outputs": [
    {
     "data": {
      "image/png": "[encoded data removed]",
      "text/plain": [
       "<Figure size 432x288 with 1 Axes>"
      ]
     },
     "metadata": {},
     "output_type": "display_data"
    }
   ],
   "source": [
    "plt.plot(history.history['loss'])\n",
    "plt.plot(history.history['val_loss'])\n",
    "plt.title('Model Loss')\n",
    "plt.ylabel('Loss')\n",
    "plt.xlabel('Epoch')\n",
    "plt.legend(['Train', 'Test'], loc='upper left')\n",
    "plt.show()"
   ]
  },
  {
   "cell_type": "code",
   "execution_count": 20,
   "metadata": {},
   "outputs": [
    {
     "data": {
      "image/png": "[encoded data removed]",
      "text/plain": [
       "<Figure size 432x288 with 1 Axes>"
      ]
     },
     "metadata": {},
     "output_type": "display_data"
    },
    {
     "data": {
      "image/png": "[encoded data removed]",
      "text/plain": [
       "<Figure size 432x288 with 1 Axes>"
      ]
     },
     "metadata": {},
     "output_type": "display_data"
    }
   ],
   "source": [
    "'''Prediction over the test dataset'''\n",
    "pred_test = model.predict(x_test)\n",
    "\n",
    "#let's compare sample predicted, actual face mask and input face image\n",
    "plt.imshow(pred_test[15, :, :, 0])\n",
    "plt.show()\n",
    "plt.imshow(y_test[15,:,:,0])\n",
    "plt.show()"
   ]
  },
  {
   "cell_type": "markdown",
   "metadata": {
    "colab": {},
    "colab_type": "code",
    "id": "ftY9Kd4ke7QJ"
   },
   "source": [
    "*Exercise: Calculate confusion matrix and total accuracy over the test dataset*\n",
    "\n",
    "This is not an operational model with high accuracy. But with more layers and with more data, we can develop this architecture in to an operational model with high accuracy."
   ]
  },
  {
   "cell_type": "code",
   "execution_count": null,
   "metadata": {},
   "outputs": [],
   "source": []
  }
 ],
 "metadata": {
  "accelerator": "TPU",
  "colab": {
   "collapsed_sections": [],
   "name": "NB_Part3.ipynb",
   "provenance": [],
   "toc_visible": true
  },
  "kernelspec": {
   "display_name": "Python 3",
   "language": "python",
   "name": "python3"
  },
  "language_info": {
   "codemirror_mode": {
    "name": "ipython",
    "version": 3
   },
   "file_extension": ".py",
   "mimetype": "text/x-python",
   "name": "python",
   "nbconvert_exporter": "python",
   "pygments_lexer": "ipython3",
   "version": "3.6.2"
  }
 },
 "nbformat": 4,
 "nbformat_minor": 1
}
